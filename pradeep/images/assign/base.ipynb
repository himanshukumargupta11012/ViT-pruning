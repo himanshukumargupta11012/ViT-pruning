{
  "cells": [
    {
      "cell_type": "markdown",
      "metadata": {
        "id": "3F4oWsmH2oaM"
      },
      "source": [
        "# Natural Language Processing\n",
        "## Assignment - 2\n",
        "### Group Members\n",
        "1. Donal Loitam (AI21BTECH11009)\n",
        "2. Sai Pradeep (AI21BTECH11013)\n",
        "3. Suraj Kumar (AI21BTECH11029)"
      ]
    },
    {
      "cell_type": "code",
      "execution_count": 12,
      "metadata": {},
      "outputs": [
        {
          "name": "stdout",
          "output_type": "stream",
          "text": [
            "Requirement already satisfied: pandas in /home/ai21btech11012/ViT-pruning/.venv/lib/python3.11/site-packages (2.2.3)\n",
            "Requirement already satisfied: numpy in /home/ai21btech11012/ViT-pruning/.venv/lib/python3.11/site-packages (1.26.4)\n",
            "Requirement already satisfied: matplotlib in /home/ai21btech11012/ViT-pruning/.venv/lib/python3.11/site-packages (3.10.1)\n",
            "Requirement already satisfied: seaborn in /home/ai21btech11012/ViT-pruning/.venv/lib/python3.11/site-packages (0.13.2)\n",
            "Requirement already satisfied: nltk in /home/ai21btech11012/ViT-pruning/.venv/lib/python3.11/site-packages (3.9.1)\n",
            "Requirement already satisfied: scikit-learn in /home/ai21btech11012/ViT-pruning/.venv/lib/python3.11/site-packages (1.6.1)\n",
            "Requirement already satisfied: torch in /home/ai21btech11012/ViT-pruning/.venv/lib/python3.11/site-packages (2.6.0)\n",
            "Requirement already satisfied: python-dateutil>=2.8.2 in /home/ai21btech11012/ViT-pruning/.venv/lib/python3.11/site-packages (from pandas) (2.9.0.post0)\n",
            "Requirement already satisfied: pytz>=2020.1 in /home/ai21btech11012/ViT-pruning/.venv/lib/python3.11/site-packages (from pandas) (2025.1)\n",
            "Requirement already satisfied: tzdata>=2022.7 in /home/ai21btech11012/ViT-pruning/.venv/lib/python3.11/site-packages (from pandas) (2025.1)\n",
            "Requirement already satisfied: contourpy>=1.0.1 in /home/ai21btech11012/ViT-pruning/.venv/lib/python3.11/site-packages (from matplotlib) (1.3.1)\n",
            "Requirement already satisfied: cycler>=0.10 in /home/ai21btech11012/ViT-pruning/.venv/lib/python3.11/site-packages (from matplotlib) (0.12.1)\n",
            "Requirement already satisfied: fonttools>=4.22.0 in /home/ai21btech11012/ViT-pruning/.venv/lib/python3.11/site-packages (from matplotlib) (4.56.0)\n",
            "Requirement already satisfied: kiwisolver>=1.3.1 in /home/ai21btech11012/ViT-pruning/.venv/lib/python3.11/site-packages (from matplotlib) (1.4.8)\n",
            "Requirement already satisfied: packaging>=20.0 in /home/ai21btech11012/ViT-pruning/.venv/lib/python3.11/site-packages (from matplotlib) (24.2)\n",
            "Requirement already satisfied: pillow>=8 in /home/ai21btech11012/ViT-pruning/.venv/lib/python3.11/site-packages (from matplotlib) (11.1.0)\n",
            "Requirement already satisfied: pyparsing>=2.3.1 in /home/ai21btech11012/ViT-pruning/.venv/lib/python3.11/site-packages (from matplotlib) (3.2.1)\n",
            "Requirement already satisfied: click in /home/ai21btech11012/ViT-pruning/.venv/lib/python3.11/site-packages (from nltk) (8.1.8)\n",
            "Requirement already satisfied: joblib in /home/ai21btech11012/ViT-pruning/.venv/lib/python3.11/site-packages (from nltk) (1.4.2)\n",
            "Requirement already satisfied: regex>=2021.8.3 in /home/ai21btech11012/ViT-pruning/.venv/lib/python3.11/site-packages (from nltk) (2024.11.6)\n",
            "Requirement already satisfied: tqdm in /home/ai21btech11012/ViT-pruning/.venv/lib/python3.11/site-packages (from nltk) (4.67.1)\n",
            "Requirement already satisfied: scipy>=1.6.0 in /home/ai21btech11012/ViT-pruning/.venv/lib/python3.11/site-packages (from scikit-learn) (1.13.1)\n",
            "Requirement already satisfied: threadpoolctl>=3.1.0 in /home/ai21btech11012/ViT-pruning/.venv/lib/python3.11/site-packages (from scikit-learn) (3.5.0)\n",
            "Requirement already satisfied: filelock in /home/ai21btech11012/ViT-pruning/.venv/lib/python3.11/site-packages (from torch) (3.17.0)\n",
            "Requirement already satisfied: typing-extensions>=4.10.0 in /home/ai21btech11012/ViT-pruning/.venv/lib/python3.11/site-packages (from torch) (4.12.2)\n",
            "Requirement already satisfied: networkx in /home/ai21btech11012/ViT-pruning/.venv/lib/python3.11/site-packages (from torch) (3.4.2)\n",
            "Requirement already satisfied: jinja2 in /home/ai21btech11012/ViT-pruning/.venv/lib/python3.11/site-packages (from torch) (3.1.5)\n",
            "Requirement already satisfied: fsspec in /home/ai21btech11012/ViT-pruning/.venv/lib/python3.11/site-packages (from torch) (2025.2.0)\n",
            "Requirement already satisfied: nvidia-cuda-nvrtc-cu12==12.4.127 in /home/ai21btech11012/ViT-pruning/.venv/lib/python3.11/site-packages (from torch) (12.4.127)\n",
            "Requirement already satisfied: nvidia-cuda-runtime-cu12==12.4.127 in /home/ai21btech11012/ViT-pruning/.venv/lib/python3.11/site-packages (from torch) (12.4.127)\n",
            "Requirement already satisfied: nvidia-cuda-cupti-cu12==12.4.127 in /home/ai21btech11012/ViT-pruning/.venv/lib/python3.11/site-packages (from torch) (12.4.127)\n",
            "Requirement already satisfied: nvidia-cudnn-cu12==9.1.0.70 in /home/ai21btech11012/ViT-pruning/.venv/lib/python3.11/site-packages (from torch) (9.1.0.70)\n",
            "Requirement already satisfied: nvidia-cublas-cu12==12.4.5.8 in /home/ai21btech11012/ViT-pruning/.venv/lib/python3.11/site-packages (from torch) (12.4.5.8)\n",
            "Requirement already satisfied: nvidia-cufft-cu12==11.2.1.3 in /home/ai21btech11012/ViT-pruning/.venv/lib/python3.11/site-packages (from torch) (11.2.1.3)\n",
            "Requirement already satisfied: nvidia-curand-cu12==10.3.5.147 in /home/ai21btech11012/ViT-pruning/.venv/lib/python3.11/site-packages (from torch) (10.3.5.147)\n",
            "Requirement already satisfied: nvidia-cusolver-cu12==11.6.1.9 in /home/ai21btech11012/ViT-pruning/.venv/lib/python3.11/site-packages (from torch) (11.6.1.9)\n",
            "Requirement already satisfied: nvidia-cusparse-cu12==12.3.1.170 in /home/ai21btech11012/ViT-pruning/.venv/lib/python3.11/site-packages (from torch) (12.3.1.170)\n",
            "Requirement already satisfied: nvidia-cusparselt-cu12==0.6.2 in /home/ai21btech11012/ViT-pruning/.venv/lib/python3.11/site-packages (from torch) (0.6.2)\n",
            "Requirement already satisfied: nvidia-nccl-cu12==2.21.5 in /home/ai21btech11012/ViT-pruning/.venv/lib/python3.11/site-packages (from torch) (2.21.5)\n",
            "Requirement already satisfied: nvidia-nvtx-cu12==12.4.127 in /home/ai21btech11012/ViT-pruning/.venv/lib/python3.11/site-packages (from torch) (12.4.127)\n",
            "Requirement already satisfied: nvidia-nvjitlink-cu12==12.4.127 in /home/ai21btech11012/ViT-pruning/.venv/lib/python3.11/site-packages (from torch) (12.4.127)\n",
            "Requirement already satisfied: triton==3.2.0 in /home/ai21btech11012/ViT-pruning/.venv/lib/python3.11/site-packages (from torch) (3.2.0)\n",
            "Requirement already satisfied: sympy==1.13.1 in /home/ai21btech11012/ViT-pruning/.venv/lib/python3.11/site-packages (from torch) (1.13.1)\n",
            "Requirement already satisfied: mpmath<1.4,>=1.1.0 in /home/ai21btech11012/ViT-pruning/.venv/lib/python3.11/site-packages (from sympy==1.13.1->torch) (1.3.0)\n",
            "Requirement already satisfied: six>=1.5 in /home/ai21btech11012/ViT-pruning/.venv/lib/python3.11/site-packages (from python-dateutil>=2.8.2->pandas) (1.17.0)\n",
            "Requirement already satisfied: MarkupSafe>=2.0 in /home/ai21btech11012/ViT-pruning/.venv/lib/python3.11/site-packages (from jinja2->torch) (3.0.2)\n"
          ]
        }
      ],
      "source": [
        "!pip install pandas numpy matplotlib seaborn nltk scikit-learn torch\n"
      ]
    },
    {
      "cell_type": "code",
      "execution_count": 1,
      "metadata": {
        "id": "J7j-fJ4J2ZQu"
      },
      "outputs": [],
      "source": [
        "# Imports\n",
        "import pandas as pd\n",
        "import numpy as np\n",
        "import matplotlib.pyplot as plt\n",
        "import seaborn as sns\n",
        "import nltk\n",
        "import re\n",
        "from nltk.corpus import stopwords\n",
        "from nltk.stem import PorterStemmer\n",
        "from nltk.stem import WordNetLemmatizer\n",
        "from sklearn.model_selection import train_test_split\n",
        "from sklearn.preprocessing import MultiLabelBinarizer\n",
        "from sklearn.feature_extraction.text import CountVectorizer\n",
        "from sklearn.feature_extraction.text import TfidfVectorizer\n",
        "\n",
        "\n",
        "import torch\n",
        "import torch.nn as nn\n",
        "import torch.optim as optim\n",
        "from torch.utils.data import Dataset, DataLoader\n",
        "from torch.nn.utils.rnn import pad_sequence\n"
      ]
    },
    {
      "cell_type": "code",
      "execution_count": 2,
      "metadata": {
        "colab": {
          "base_uri": "https://localhost:8080/"
        },
        "id": "xnI7lZU6-a8w",
        "outputId": "dff83760-6bbf-4f2e-a6d8-787c96c12830"
      },
      "outputs": [
        {
          "name": "stderr",
          "output_type": "stream",
          "text": [
            "[nltk_data] Downloading package stopwords to\n",
            "[nltk_data]     /home/ai21btech11012/nltk_data...\n",
            "[nltk_data]   Package stopwords is already up-to-date!\n"
          ]
        },
        {
          "data": {
            "text/plain": [
              "True"
            ]
          },
          "execution_count": 2,
          "metadata": {},
          "output_type": "execute_result"
        }
      ],
      "source": [
        "# Download stopwords if not already available\n",
        "nltk.download('stopwords')"
      ]
    },
    {
      "cell_type": "markdown",
      "metadata": {},
      "source": [
        "# DATASET 1"
      ]
    },
    {
      "cell_type": "markdown",
      "metadata": {
        "id": "tHuVyfKl4WoQ"
      },
      "source": [
        "## Data Understanding"
      ]
    },
    {
      "cell_type": "code",
      "execution_count": 3,
      "metadata": {},
      "outputs": [
        {
          "name": "stdout",
          "output_type": "stream",
          "text": [
            "Requirement already satisfied: openpyxl in /home/ai21btech11012/ViT-pruning/.venv/lib/python3.11/site-packages (3.1.5)\n",
            "Requirement already satisfied: et-xmlfile in /home/ai21btech11012/ViT-pruning/.venv/lib/python3.11/site-packages (from openpyxl) (2.0.0)\n"
          ]
        }
      ],
      "source": [
        "!pip install openpyxl"
      ]
    },
    {
      "cell_type": "code",
      "execution_count": 4,
      "metadata": {
        "colab": {
          "base_uri": "https://localhost:8080/",
          "height": 660
        },
        "id": "yFQZVxRE4cNZ",
        "outputId": "8b406888-8dcb-4258-dcf4-8c26b15338f5"
      },
      "outputs": [
        {
          "data": {
            "text/html": [
              "<div>\n",
              "<style scoped>\n",
              "    .dataframe tbody tr th:only-of-type {\n",
              "        vertical-align: middle;\n",
              "    }\n",
              "\n",
              "    .dataframe tbody tr th {\n",
              "        vertical-align: top;\n",
              "    }\n",
              "\n",
              "    .dataframe thead th {\n",
              "        text-align: right;\n",
              "    }\n",
              "</style>\n",
              "<table border=\"1\" class=\"dataframe\">\n",
              "  <thead>\n",
              "    <tr style=\"text-align: right;\">\n",
              "      <th></th>\n",
              "      <th>ID</th>\n",
              "      <th>TITLE</th>\n",
              "      <th>ABSTRACT</th>\n",
              "      <th>Computer Science</th>\n",
              "      <th>Physics</th>\n",
              "      <th>Mathematics</th>\n",
              "      <th>Statistics</th>\n",
              "      <th>Quantitative Biology</th>\n",
              "      <th>Quantitative Finance</th>\n",
              "    </tr>\n",
              "  </thead>\n",
              "  <tbody>\n",
              "    <tr>\n",
              "      <th>0</th>\n",
              "      <td>1</td>\n",
              "      <td>Reconstructing Subject-Specific Effect Maps</td>\n",
              "      <td>Predictive models allow subject-specific inf...</td>\n",
              "      <td>1</td>\n",
              "      <td>0</td>\n",
              "      <td>0</td>\n",
              "      <td>0</td>\n",
              "      <td>0</td>\n",
              "      <td>0</td>\n",
              "    </tr>\n",
              "    <tr>\n",
              "      <th>1</th>\n",
              "      <td>2</td>\n",
              "      <td>Rotation Invariance Neural Network</td>\n",
              "      <td>Rotation invariance and translation invarian...</td>\n",
              "      <td>1</td>\n",
              "      <td>0</td>\n",
              "      <td>0</td>\n",
              "      <td>0</td>\n",
              "      <td>0</td>\n",
              "      <td>0</td>\n",
              "    </tr>\n",
              "    <tr>\n",
              "      <th>2</th>\n",
              "      <td>3</td>\n",
              "      <td>Spherical polyharmonics and Poisson kernels fo...</td>\n",
              "      <td>We introduce and develop the notion of spher...</td>\n",
              "      <td>0</td>\n",
              "      <td>0</td>\n",
              "      <td>1</td>\n",
              "      <td>0</td>\n",
              "      <td>0</td>\n",
              "      <td>0</td>\n",
              "    </tr>\n",
              "    <tr>\n",
              "      <th>3</th>\n",
              "      <td>4</td>\n",
              "      <td>A finite element approximation for the stochas...</td>\n",
              "      <td>The stochastic Landau--Lifshitz--Gilbert (LL...</td>\n",
              "      <td>0</td>\n",
              "      <td>0</td>\n",
              "      <td>1</td>\n",
              "      <td>0</td>\n",
              "      <td>0</td>\n",
              "      <td>0</td>\n",
              "    </tr>\n",
              "    <tr>\n",
              "      <th>4</th>\n",
              "      <td>5</td>\n",
              "      <td>Comparative study of Discrete Wavelet Transfor...</td>\n",
              "      <td>Fourier-transform infra-red (FTIR) spectra o...</td>\n",
              "      <td>1</td>\n",
              "      <td>0</td>\n",
              "      <td>0</td>\n",
              "      <td>1</td>\n",
              "      <td>0</td>\n",
              "      <td>0</td>\n",
              "    </tr>\n",
              "  </tbody>\n",
              "</table>\n",
              "</div>"
            ],
            "text/plain": [
              "   ID                                              TITLE  \\\n",
              "0   1        Reconstructing Subject-Specific Effect Maps   \n",
              "1   2                 Rotation Invariance Neural Network   \n",
              "2   3  Spherical polyharmonics and Poisson kernels fo...   \n",
              "3   4  A finite element approximation for the stochas...   \n",
              "4   5  Comparative study of Discrete Wavelet Transfor...   \n",
              "\n",
              "                                            ABSTRACT  Computer Science  \\\n",
              "0    Predictive models allow subject-specific inf...                 1   \n",
              "1    Rotation invariance and translation invarian...                 1   \n",
              "2    We introduce and develop the notion of spher...                 0   \n",
              "3    The stochastic Landau--Lifshitz--Gilbert (LL...                 0   \n",
              "4    Fourier-transform infra-red (FTIR) spectra o...                 1   \n",
              "\n",
              "   Physics  Mathematics  Statistics  Quantitative Biology  \\\n",
              "0        0            0           0                     0   \n",
              "1        0            0           0                     0   \n",
              "2        0            1           0                     0   \n",
              "3        0            1           0                     0   \n",
              "4        0            0           1                     0   \n",
              "\n",
              "   Quantitative Finance  \n",
              "0                     0  \n",
              "1                     0  \n",
              "2                     0  \n",
              "3                     0  \n",
              "4                     0  "
            ]
          },
          "execution_count": 4,
          "metadata": {},
          "output_type": "execute_result"
        }
      ],
      "source": [
        "file_path = 'sample_data/Dataset-1.xlsx'\n",
        "df = pd.read_excel(file_path)\n",
        "df.head()"
      ]
    },
    {
      "cell_type": "code",
      "execution_count": 5,
      "metadata": {
        "colab": {
          "base_uri": "https://localhost:8080/"
        },
        "id": "2pHo436BrJae",
        "outputId": "ff3ed089-0ab5-4b4c-fb76-6147c3b2219b"
      },
      "outputs": [
        {
          "name": "stdout",
          "output_type": "stream",
          "text": [
            "Index(['ID', 'TITLE', 'ABSTRACT', 'Computer Science', 'Physics', 'Mathematics',\n",
            "       'Statistics', 'Quantitative Biology', 'Quantitative Finance'],\n",
            "      dtype='object')\n"
          ]
        }
      ],
      "source": [
        "print(df.columns)"
      ]
    },
    {
      "cell_type": "code",
      "execution_count": 6,
      "metadata": {
        "colab": {
          "base_uri": "https://localhost:8080/"
        },
        "id": "1yYHe6GF0Nxi",
        "outputId": "26961e6a-a7c8-40ef-ec79-48ca3a8e58bf"
      },
      "outputs": [
        {
          "name": "stdout",
          "output_type": "stream",
          "text": [
            "<class 'pandas.core.frame.DataFrame'>\n",
            "RangeIndex: 20972 entries, 0 to 20971\n",
            "Data columns (total 9 columns):\n",
            " #   Column                Non-Null Count  Dtype \n",
            "---  ------                --------------  ----- \n",
            " 0   ID                    20972 non-null  int64 \n",
            " 1   TITLE                 20972 non-null  object\n",
            " 2   ABSTRACT              20972 non-null  object\n",
            " 3   Computer Science      20972 non-null  int64 \n",
            " 4   Physics               20972 non-null  int64 \n",
            " 5   Mathematics           20972 non-null  int64 \n",
            " 6   Statistics            20972 non-null  int64 \n",
            " 7   Quantitative Biology  20972 non-null  int64 \n",
            " 8   Quantitative Finance  20972 non-null  int64 \n",
            "dtypes: int64(7), object(2)\n",
            "memory usage: 1.4+ MB\n",
            "None\n"
          ]
        }
      ],
      "source": [
        "# Check for missing values,  class imbalance, and other issues.\n",
        "print(df.info())"
      ]
    },
    {
      "cell_type": "markdown",
      "metadata": {
        "id": "51SRBNwt4co6"
      },
      "source": [
        "## Data Preprocessing\n",
        "1. Define a function for processing text\n",
        "2. Create labels and convert labels into a binary multi-label format\n",
        "3. Split data into train-test sets"
      ]
    },
    {
      "cell_type": "code",
      "execution_count": 7,
      "metadata": {
        "id": "jUo2cPJQ4ee9"
      },
      "outputs": [],
      "source": [
        "def process_text(text):\n",
        "    if pd.isna(text):\n",
        "        return ''\n",
        "    text = text.lower()\n",
        "    text = re.sub(r'\\s+', ' ', text)  # Remove extra spaces\n",
        "    text = re.sub(r'[^a-zA-Z0-9\\s]', '', text)  # Remove special characters\n",
        "\n",
        "    # Remove stop words\n",
        "    stop_words = set(stopwords.words('english'))\n",
        "    words = text.split()\n",
        "    words = [word for word in words if word not in stop_words]\n",
        "\n",
        "    new_processed_text = ' '.join(words)\n",
        "    return new_processed_text"
      ]
    },
    {
      "cell_type": "code",
      "execution_count": 8,
      "metadata": {
        "colab": {
          "base_uri": "https://localhost:8080/",
          "height": 660
        },
        "id": "coo5KpJvrGvp",
        "outputId": "6ece9d8c-e206-4372-871f-4b43a4e899f7"
      },
      "outputs": [
        {
          "data": {
            "text/html": [
              "<div>\n",
              "<style scoped>\n",
              "    .dataframe tbody tr th:only-of-type {\n",
              "        vertical-align: middle;\n",
              "    }\n",
              "\n",
              "    .dataframe tbody tr th {\n",
              "        vertical-align: top;\n",
              "    }\n",
              "\n",
              "    .dataframe thead th {\n",
              "        text-align: right;\n",
              "    }\n",
              "</style>\n",
              "<table border=\"1\" class=\"dataframe\">\n",
              "  <thead>\n",
              "    <tr style=\"text-align: right;\">\n",
              "      <th></th>\n",
              "      <th>ID</th>\n",
              "      <th>TITLE</th>\n",
              "      <th>ABSTRACT</th>\n",
              "      <th>Computer Science</th>\n",
              "      <th>Physics</th>\n",
              "      <th>Mathematics</th>\n",
              "      <th>Statistics</th>\n",
              "      <th>Quantitative Biology</th>\n",
              "      <th>Quantitative Finance</th>\n",
              "      <th>processed_title</th>\n",
              "      <th>processed_abstract</th>\n",
              "      <th>processed_text</th>\n",
              "    </tr>\n",
              "  </thead>\n",
              "  <tbody>\n",
              "    <tr>\n",
              "      <th>0</th>\n",
              "      <td>1</td>\n",
              "      <td>Reconstructing Subject-Specific Effect Maps</td>\n",
              "      <td>Predictive models allow subject-specific inf...</td>\n",
              "      <td>1</td>\n",
              "      <td>0</td>\n",
              "      <td>0</td>\n",
              "      <td>0</td>\n",
              "      <td>0</td>\n",
              "      <td>0</td>\n",
              "      <td>reconstructing subjectspecific effect maps</td>\n",
              "      <td>predictive models allow subjectspecific infere...</td>\n",
              "      <td>reconstructing subjectspecific effect maps pre...</td>\n",
              "    </tr>\n",
              "    <tr>\n",
              "      <th>1</th>\n",
              "      <td>2</td>\n",
              "      <td>Rotation Invariance Neural Network</td>\n",
              "      <td>Rotation invariance and translation invarian...</td>\n",
              "      <td>1</td>\n",
              "      <td>0</td>\n",
              "      <td>0</td>\n",
              "      <td>0</td>\n",
              "      <td>0</td>\n",
              "      <td>0</td>\n",
              "      <td>rotation invariance neural network</td>\n",
              "      <td>rotation invariance translation invariance gre...</td>\n",
              "      <td>rotation invariance neural network rotation in...</td>\n",
              "    </tr>\n",
              "    <tr>\n",
              "      <th>2</th>\n",
              "      <td>3</td>\n",
              "      <td>Spherical polyharmonics and Poisson kernels fo...</td>\n",
              "      <td>We introduce and develop the notion of spher...</td>\n",
              "      <td>0</td>\n",
              "      <td>0</td>\n",
              "      <td>1</td>\n",
              "      <td>0</td>\n",
              "      <td>0</td>\n",
              "      <td>0</td>\n",
              "      <td>spherical polyharmonics poisson kernels polyha...</td>\n",
              "      <td>introduce develop notion spherical polyharmoni...</td>\n",
              "      <td>spherical polyharmonics poisson kernels polyha...</td>\n",
              "    </tr>\n",
              "    <tr>\n",
              "      <th>3</th>\n",
              "      <td>4</td>\n",
              "      <td>A finite element approximation for the stochas...</td>\n",
              "      <td>The stochastic Landau--Lifshitz--Gilbert (LL...</td>\n",
              "      <td>0</td>\n",
              "      <td>0</td>\n",
              "      <td>1</td>\n",
              "      <td>0</td>\n",
              "      <td>0</td>\n",
              "      <td>0</td>\n",
              "      <td>finite element approximation stochastic maxwel...</td>\n",
              "      <td>stochastic landaulifshitzgilbert llg equation ...</td>\n",
              "      <td>finite element approximation stochastic maxwel...</td>\n",
              "    </tr>\n",
              "    <tr>\n",
              "      <th>4</th>\n",
              "      <td>5</td>\n",
              "      <td>Comparative study of Discrete Wavelet Transfor...</td>\n",
              "      <td>Fourier-transform infra-red (FTIR) spectra o...</td>\n",
              "      <td>1</td>\n",
              "      <td>0</td>\n",
              "      <td>0</td>\n",
              "      <td>1</td>\n",
              "      <td>0</td>\n",
              "      <td>0</td>\n",
              "      <td>comparative study discrete wavelet transforms ...</td>\n",
              "      <td>fouriertransform infrared ftir spectra samples...</td>\n",
              "      <td>comparative study discrete wavelet transforms ...</td>\n",
              "    </tr>\n",
              "  </tbody>\n",
              "</table>\n",
              "</div>"
            ],
            "text/plain": [
              "   ID                                              TITLE  \\\n",
              "0   1        Reconstructing Subject-Specific Effect Maps   \n",
              "1   2                 Rotation Invariance Neural Network   \n",
              "2   3  Spherical polyharmonics and Poisson kernels fo...   \n",
              "3   4  A finite element approximation for the stochas...   \n",
              "4   5  Comparative study of Discrete Wavelet Transfor...   \n",
              "\n",
              "                                            ABSTRACT  Computer Science  \\\n",
              "0    Predictive models allow subject-specific inf...                 1   \n",
              "1    Rotation invariance and translation invarian...                 1   \n",
              "2    We introduce and develop the notion of spher...                 0   \n",
              "3    The stochastic Landau--Lifshitz--Gilbert (LL...                 0   \n",
              "4    Fourier-transform infra-red (FTIR) spectra o...                 1   \n",
              "\n",
              "   Physics  Mathematics  Statistics  Quantitative Biology  \\\n",
              "0        0            0           0                     0   \n",
              "1        0            0           0                     0   \n",
              "2        0            1           0                     0   \n",
              "3        0            1           0                     0   \n",
              "4        0            0           1                     0   \n",
              "\n",
              "   Quantitative Finance                                    processed_title  \\\n",
              "0                     0         reconstructing subjectspecific effect maps   \n",
              "1                     0                 rotation invariance neural network   \n",
              "2                     0  spherical polyharmonics poisson kernels polyha...   \n",
              "3                     0  finite element approximation stochastic maxwel...   \n",
              "4                     0  comparative study discrete wavelet transforms ...   \n",
              "\n",
              "                                  processed_abstract  \\\n",
              "0  predictive models allow subjectspecific infere...   \n",
              "1  rotation invariance translation invariance gre...   \n",
              "2  introduce develop notion spherical polyharmoni...   \n",
              "3  stochastic landaulifshitzgilbert llg equation ...   \n",
              "4  fouriertransform infrared ftir spectra samples...   \n",
              "\n",
              "                                      processed_text  \n",
              "0  reconstructing subjectspecific effect maps pre...  \n",
              "1  rotation invariance neural network rotation in...  \n",
              "2  spherical polyharmonics poisson kernels polyha...  \n",
              "3  finite element approximation stochastic maxwel...  \n",
              "4  comparative study discrete wavelet transforms ...  "
            ]
          },
          "execution_count": 8,
          "metadata": {},
          "output_type": "execute_result"
        }
      ],
      "source": [
        "# Apply this function to title and abstract columns of the df\n",
        "df['processed_title'] = df['TITLE'].apply(process_text)\n",
        "df['processed_abstract'] = df['ABSTRACT'].apply(process_text)\n",
        "\n",
        "# Merge these columns into one\n",
        "df['processed_text'] = df['processed_title'] + ' ' + df['processed_abstract']\n",
        "df.head()"
      ]
    },
    {
      "cell_type": "code",
      "execution_count": 9,
      "metadata": {
        "colab": {
          "base_uri": "https://localhost:8080/"
        },
        "id": "9X6zcEOirHZv",
        "outputId": "7108cdf9-b278-4dc6-9e39-c3c548bb1e84"
      },
      "outputs": [
        {
          "name": "stdout",
          "output_type": "stream",
          "text": [
            "Index(['Computer Science', 'Physics', 'Mathematics', 'Statistics',\n",
            "       'Quantitative Biology', 'Quantitative Finance'],\n",
            "      dtype='object')\n"
          ]
        }
      ],
      "source": [
        "# Columns 3 to 8 are labels, so extract these column names and store it in a list\n",
        "label_columns = df.columns[3:9]\n",
        "print(label_columns)\n",
        "\n",
        "# Prepare Labels (Multi-label classification)\n",
        "df[\"labels\"] = df[label_columns].apply(lambda x: list(np.where(x == 1)[0]), axis=1)\n",
        "\n",
        "# Convert multi-labels into binary format\n",
        "mlb = MultiLabelBinarizer()\n",
        "y = mlb.fit_transform(df[\"labels\"])"
      ]
    },
    {
      "cell_type": "code",
      "execution_count": 10,
      "metadata": {
        "colab": {
          "base_uri": "https://localhost:8080/"
        },
        "id": "uAPC_la90bKM",
        "outputId": "5c1281bb-d2f0-478f-8e0d-6530a9a3e60f"
      },
      "outputs": [
        {
          "name": "stdout",
          "output_type": "stream",
          "text": [
            "Computer Science        8594\n",
            "Physics                 6013\n",
            "Mathematics             5618\n",
            "Statistics              5206\n",
            "Quantitative Biology     587\n",
            "Quantitative Finance     249\n",
            "dtype: int64\n"
          ]
        }
      ],
      "source": [
        "# Check for class imbalance\n",
        "label_counts = df[label_columns].sum()\n",
        "print(label_counts)"
      ]
    },
    {
      "cell_type": "code",
      "execution_count": 11,
      "metadata": {
        "colab": {
          "base_uri": "https://localhost:8080/",
          "height": 1000
        },
        "id": "RLK3cKkXzRDz",
        "outputId": "39a32e8e-a47d-477c-9ae0-bfe513f0c1e1"
      },
      "outputs": [
        {
          "data": {
            "text/html": [
              "<div>\n",
              "<style scoped>\n",
              "    .dataframe tbody tr th:only-of-type {\n",
              "        vertical-align: middle;\n",
              "    }\n",
              "\n",
              "    .dataframe tbody tr th {\n",
              "        vertical-align: top;\n",
              "    }\n",
              "\n",
              "    .dataframe thead th {\n",
              "        text-align: right;\n",
              "    }\n",
              "</style>\n",
              "<table border=\"1\" class=\"dataframe\">\n",
              "  <thead>\n",
              "    <tr style=\"text-align: right;\">\n",
              "      <th></th>\n",
              "      <th>ID</th>\n",
              "      <th>TITLE</th>\n",
              "      <th>ABSTRACT</th>\n",
              "      <th>Computer Science</th>\n",
              "      <th>Physics</th>\n",
              "      <th>Mathematics</th>\n",
              "      <th>Statistics</th>\n",
              "      <th>Quantitative Biology</th>\n",
              "      <th>Quantitative Finance</th>\n",
              "      <th>processed_title</th>\n",
              "      <th>processed_abstract</th>\n",
              "      <th>processed_text</th>\n",
              "      <th>labels</th>\n",
              "    </tr>\n",
              "  </thead>\n",
              "  <tbody>\n",
              "    <tr>\n",
              "      <th>0</th>\n",
              "      <td>1</td>\n",
              "      <td>Reconstructing Subject-Specific Effect Maps</td>\n",
              "      <td>Predictive models allow subject-specific inf...</td>\n",
              "      <td>1</td>\n",
              "      <td>0</td>\n",
              "      <td>0</td>\n",
              "      <td>0</td>\n",
              "      <td>0</td>\n",
              "      <td>0</td>\n",
              "      <td>reconstructing subjectspecific effect maps</td>\n",
              "      <td>predictive models allow subjectspecific infere...</td>\n",
              "      <td>reconstructing subjectspecific effect maps pre...</td>\n",
              "      <td>[0]</td>\n",
              "    </tr>\n",
              "    <tr>\n",
              "      <th>1</th>\n",
              "      <td>2</td>\n",
              "      <td>Rotation Invariance Neural Network</td>\n",
              "      <td>Rotation invariance and translation invarian...</td>\n",
              "      <td>1</td>\n",
              "      <td>0</td>\n",
              "      <td>0</td>\n",
              "      <td>0</td>\n",
              "      <td>0</td>\n",
              "      <td>0</td>\n",
              "      <td>rotation invariance neural network</td>\n",
              "      <td>rotation invariance translation invariance gre...</td>\n",
              "      <td>rotation invariance neural network rotation in...</td>\n",
              "      <td>[0]</td>\n",
              "    </tr>\n",
              "    <tr>\n",
              "      <th>2</th>\n",
              "      <td>3</td>\n",
              "      <td>Spherical polyharmonics and Poisson kernels fo...</td>\n",
              "      <td>We introduce and develop the notion of spher...</td>\n",
              "      <td>0</td>\n",
              "      <td>0</td>\n",
              "      <td>1</td>\n",
              "      <td>0</td>\n",
              "      <td>0</td>\n",
              "      <td>0</td>\n",
              "      <td>spherical polyharmonics poisson kernels polyha...</td>\n",
              "      <td>introduce develop notion spherical polyharmoni...</td>\n",
              "      <td>spherical polyharmonics poisson kernels polyha...</td>\n",
              "      <td>[2]</td>\n",
              "    </tr>\n",
              "    <tr>\n",
              "      <th>3</th>\n",
              "      <td>4</td>\n",
              "      <td>A finite element approximation for the stochas...</td>\n",
              "      <td>The stochastic Landau--Lifshitz--Gilbert (LL...</td>\n",
              "      <td>0</td>\n",
              "      <td>0</td>\n",
              "      <td>1</td>\n",
              "      <td>0</td>\n",
              "      <td>0</td>\n",
              "      <td>0</td>\n",
              "      <td>finite element approximation stochastic maxwel...</td>\n",
              "      <td>stochastic landaulifshitzgilbert llg equation ...</td>\n",
              "      <td>finite element approximation stochastic maxwel...</td>\n",
              "      <td>[2]</td>\n",
              "    </tr>\n",
              "    <tr>\n",
              "      <th>4</th>\n",
              "      <td>5</td>\n",
              "      <td>Comparative study of Discrete Wavelet Transfor...</td>\n",
              "      <td>Fourier-transform infra-red (FTIR) spectra o...</td>\n",
              "      <td>1</td>\n",
              "      <td>0</td>\n",
              "      <td>0</td>\n",
              "      <td>1</td>\n",
              "      <td>0</td>\n",
              "      <td>0</td>\n",
              "      <td>comparative study discrete wavelet transforms ...</td>\n",
              "      <td>fouriertransform infrared ftir spectra samples...</td>\n",
              "      <td>comparative study discrete wavelet transforms ...</td>\n",
              "      <td>[0, 3]</td>\n",
              "    </tr>\n",
              "    <tr>\n",
              "      <th>...</th>\n",
              "      <td>...</td>\n",
              "      <td>...</td>\n",
              "      <td>...</td>\n",
              "      <td>...</td>\n",
              "      <td>...</td>\n",
              "      <td>...</td>\n",
              "      <td>...</td>\n",
              "      <td>...</td>\n",
              "      <td>...</td>\n",
              "      <td>...</td>\n",
              "      <td>...</td>\n",
              "      <td>...</td>\n",
              "      <td>...</td>\n",
              "    </tr>\n",
              "    <tr>\n",
              "      <th>20967</th>\n",
              "      <td>20968</td>\n",
              "      <td>Contemporary machine learning: a guide for pra...</td>\n",
              "      <td>Machine learning is finding increasingly bro...</td>\n",
              "      <td>1</td>\n",
              "      <td>1</td>\n",
              "      <td>0</td>\n",
              "      <td>0</td>\n",
              "      <td>0</td>\n",
              "      <td>0</td>\n",
              "      <td>contemporary machine learning guide practition...</td>\n",
              "      <td>machine learning finding increasingly broad ap...</td>\n",
              "      <td>contemporary machine learning guide practition...</td>\n",
              "      <td>[0, 1]</td>\n",
              "    </tr>\n",
              "    <tr>\n",
              "      <th>20968</th>\n",
              "      <td>20969</td>\n",
              "      <td>Uniform diamond coatings on WC-Co hard alloy c...</td>\n",
              "      <td>Polycrystalline diamond coatings have been g...</td>\n",
              "      <td>0</td>\n",
              "      <td>1</td>\n",
              "      <td>0</td>\n",
              "      <td>0</td>\n",
              "      <td>0</td>\n",
              "      <td>0</td>\n",
              "      <td>uniform diamond coatings wcco hard alloy cutti...</td>\n",
              "      <td>polycrystalline diamond coatings grown cemente...</td>\n",
              "      <td>uniform diamond coatings wcco hard alloy cutti...</td>\n",
              "      <td>[1]</td>\n",
              "    </tr>\n",
              "    <tr>\n",
              "      <th>20969</th>\n",
              "      <td>20970</td>\n",
              "      <td>Analysing Soccer Games with Clustering and Con...</td>\n",
              "      <td>We present a new approach for identifying si...</td>\n",
              "      <td>1</td>\n",
              "      <td>0</td>\n",
              "      <td>0</td>\n",
              "      <td>0</td>\n",
              "      <td>0</td>\n",
              "      <td>0</td>\n",
              "      <td>analysing soccer games clustering conceptors</td>\n",
              "      <td>present new approach identifying situations be...</td>\n",
              "      <td>analysing soccer games clustering conceptors p...</td>\n",
              "      <td>[0]</td>\n",
              "    </tr>\n",
              "    <tr>\n",
              "      <th>20970</th>\n",
              "      <td>20971</td>\n",
              "      <td>On the Efficient Simulation of the Left-Tail o...</td>\n",
              "      <td>The sum of Log-normal variates is encountere...</td>\n",
              "      <td>0</td>\n",
              "      <td>0</td>\n",
              "      <td>1</td>\n",
              "      <td>1</td>\n",
              "      <td>0</td>\n",
              "      <td>0</td>\n",
              "      <td>efficient simulation lefttail sum correlated l...</td>\n",
              "      <td>sum lognormal variates encountered many challe...</td>\n",
              "      <td>efficient simulation lefttail sum correlated l...</td>\n",
              "      <td>[2, 3]</td>\n",
              "    </tr>\n",
              "    <tr>\n",
              "      <th>20971</th>\n",
              "      <td>20972</td>\n",
              "      <td>Why optional stopping is a problem for Bayesians</td>\n",
              "      <td>Recently, optional stopping has been a subje...</td>\n",
              "      <td>0</td>\n",
              "      <td>0</td>\n",
              "      <td>1</td>\n",
              "      <td>1</td>\n",
              "      <td>0</td>\n",
              "      <td>0</td>\n",
              "      <td>optional stopping problem bayesians</td>\n",
              "      <td>recently optional stopping subject debate baye...</td>\n",
              "      <td>optional stopping problem bayesians recently o...</td>\n",
              "      <td>[2, 3]</td>\n",
              "    </tr>\n",
              "  </tbody>\n",
              "</table>\n",
              "<p>20972 rows × 13 columns</p>\n",
              "</div>"
            ],
            "text/plain": [
              "          ID                                              TITLE  \\\n",
              "0          1        Reconstructing Subject-Specific Effect Maps   \n",
              "1          2                 Rotation Invariance Neural Network   \n",
              "2          3  Spherical polyharmonics and Poisson kernels fo...   \n",
              "3          4  A finite element approximation for the stochas...   \n",
              "4          5  Comparative study of Discrete Wavelet Transfor...   \n",
              "...      ...                                                ...   \n",
              "20967  20968  Contemporary machine learning: a guide for pra...   \n",
              "20968  20969  Uniform diamond coatings on WC-Co hard alloy c...   \n",
              "20969  20970  Analysing Soccer Games with Clustering and Con...   \n",
              "20970  20971  On the Efficient Simulation of the Left-Tail o...   \n",
              "20971  20972   Why optional stopping is a problem for Bayesians   \n",
              "\n",
              "                                                ABSTRACT  Computer Science  \\\n",
              "0        Predictive models allow subject-specific inf...                 1   \n",
              "1        Rotation invariance and translation invarian...                 1   \n",
              "2        We introduce and develop the notion of spher...                 0   \n",
              "3        The stochastic Landau--Lifshitz--Gilbert (LL...                 0   \n",
              "4        Fourier-transform infra-red (FTIR) spectra o...                 1   \n",
              "...                                                  ...               ...   \n",
              "20967    Machine learning is finding increasingly bro...                 1   \n",
              "20968    Polycrystalline diamond coatings have been g...                 0   \n",
              "20969    We present a new approach for identifying si...                 1   \n",
              "20970    The sum of Log-normal variates is encountere...                 0   \n",
              "20971    Recently, optional stopping has been a subje...                 0   \n",
              "\n",
              "       Physics  Mathematics  Statistics  Quantitative Biology  \\\n",
              "0            0            0           0                     0   \n",
              "1            0            0           0                     0   \n",
              "2            0            1           0                     0   \n",
              "3            0            1           0                     0   \n",
              "4            0            0           1                     0   \n",
              "...        ...          ...         ...                   ...   \n",
              "20967        1            0           0                     0   \n",
              "20968        1            0           0                     0   \n",
              "20969        0            0           0                     0   \n",
              "20970        0            1           1                     0   \n",
              "20971        0            1           1                     0   \n",
              "\n",
              "       Quantitative Finance  \\\n",
              "0                         0   \n",
              "1                         0   \n",
              "2                         0   \n",
              "3                         0   \n",
              "4                         0   \n",
              "...                     ...   \n",
              "20967                     0   \n",
              "20968                     0   \n",
              "20969                     0   \n",
              "20970                     0   \n",
              "20971                     0   \n",
              "\n",
              "                                         processed_title  \\\n",
              "0             reconstructing subjectspecific effect maps   \n",
              "1                     rotation invariance neural network   \n",
              "2      spherical polyharmonics poisson kernels polyha...   \n",
              "3      finite element approximation stochastic maxwel...   \n",
              "4      comparative study discrete wavelet transforms ...   \n",
              "...                                                  ...   \n",
              "20967  contemporary machine learning guide practition...   \n",
              "20968  uniform diamond coatings wcco hard alloy cutti...   \n",
              "20969       analysing soccer games clustering conceptors   \n",
              "20970  efficient simulation lefttail sum correlated l...   \n",
              "20971                optional stopping problem bayesians   \n",
              "\n",
              "                                      processed_abstract  \\\n",
              "0      predictive models allow subjectspecific infere...   \n",
              "1      rotation invariance translation invariance gre...   \n",
              "2      introduce develop notion spherical polyharmoni...   \n",
              "3      stochastic landaulifshitzgilbert llg equation ...   \n",
              "4      fouriertransform infrared ftir spectra samples...   \n",
              "...                                                  ...   \n",
              "20967  machine learning finding increasingly broad ap...   \n",
              "20968  polycrystalline diamond coatings grown cemente...   \n",
              "20969  present new approach identifying situations be...   \n",
              "20970  sum lognormal variates encountered many challe...   \n",
              "20971  recently optional stopping subject debate baye...   \n",
              "\n",
              "                                          processed_text  labels  \n",
              "0      reconstructing subjectspecific effect maps pre...     [0]  \n",
              "1      rotation invariance neural network rotation in...     [0]  \n",
              "2      spherical polyharmonics poisson kernels polyha...     [2]  \n",
              "3      finite element approximation stochastic maxwel...     [2]  \n",
              "4      comparative study discrete wavelet transforms ...  [0, 3]  \n",
              "...                                                  ...     ...  \n",
              "20967  contemporary machine learning guide practition...  [0, 1]  \n",
              "20968  uniform diamond coatings wcco hard alloy cutti...     [1]  \n",
              "20969  analysing soccer games clustering conceptors p...     [0]  \n",
              "20970  efficient simulation lefttail sum correlated l...  [2, 3]  \n",
              "20971  optional stopping problem bayesians recently o...  [2, 3]  \n",
              "\n",
              "[20972 rows x 13 columns]"
            ]
          },
          "execution_count": 11,
          "metadata": {},
          "output_type": "execute_result"
        }
      ],
      "source": [
        "df"
      ]
    },
    {
      "cell_type": "code",
      "execution_count": 13,
      "metadata": {
        "colab": {
          "base_uri": "https://localhost:8080/"
        },
        "id": "xUQOqKXRzai0",
        "outputId": "72f5705f-2d04-4783-ffc5-1811e1a28930"
      },
      "outputs": [
        {
          "name": "stdout",
          "output_type": "stream",
          "text": [
            "Train set shape: (16777,)\n",
            "Test set shape: (4195,)\n",
            "Sample Text: reverse quantum annealing approach portfolio optimization problems investigate hybrid quantumclassical solution method meanvariance portfolio optimization problems starting real financial data statistics following principles modern portfolio theory generate parametrized samples portfolio optimization problems related quadratic binary optimization forms programmable analog dwave quantum annealer 2000q instances also solvable industryestablished genetic algorithm approach use classical benchmark investigate several options run quantum computation optimally ultimately discovering best results terms expected timetosolution function number variables hardest instances set obtained seeding quantum annealer solution candidate found greedy local search performing reverse annealing protocol optimized reverse annealing protocol found 100 times faster corresponding forward quantum annealing average\n",
            "Labels: [0 0 0 0 0 1]\n"
          ]
        }
      ],
      "source": [
        "# Split into Train and Test sets\n",
        "X_train, X_test, y_train, y_test = train_test_split(df[\"processed_text\"], y, test_size=0.2, random_state=42)\n",
        "\n",
        "# Print the train and test set shape\n",
        "print(\"Train set shape:\", X_train.shape)\n",
        "print(\"Test set shape:\", X_test.shape)\n",
        "\n",
        "# Display a sample processed data\n",
        "print(f\"Sample Text: {X_train.iloc[0]}\")\n",
        "print(f\"Labels: {y_train[0]}\")"
      ]
    },
    {
      "cell_type": "markdown",
      "metadata": {
        "id": "FJTlus7_4fE-"
      },
      "source": [
        "## Feature extraction/Representation\n",
        "Convert text data (titles and abstracts) into numerical representations\n",
        "1. Bag of Words (BoW)\n",
        "2. TF-IDF (Term Frequency-Inverse Document Frequency)\n",
        "3. Word Embeddings (Word2Vec, GloVe)\n",
        "\n",
        "- We will be using **TF-IDF** since it is known to work well with text classification using *Classical ML models*.\n",
        "- Among word embeddings, we would experiment with **Word2Vec** and **GloVe** for *Deep Learning models*."
      ]
    },
    {
      "cell_type": "code",
      "execution_count": 15,
      "metadata": {
        "colab": {
          "base_uri": "https://localhost:8080/"
        },
        "id": "18pYvIXa2nPN",
        "outputId": "f3dcdb9a-95bc-44cc-bf6f-a1f55263a633"
      },
      "outputs": [
        {
          "name": "stdout",
          "output_type": "stream",
          "text": [
            "Requirement already satisfied: gensim in /home/ai21btech11012/ViT-pruning/.venv/lib/python3.11/site-packages (4.3.3)\n",
            "Requirement already satisfied: numpy<2.0,>=1.18.5 in /home/ai21btech11012/ViT-pruning/.venv/lib/python3.11/site-packages (from gensim) (1.26.4)\n",
            "Requirement already satisfied: scipy<1.14.0,>=1.7.0 in /home/ai21btech11012/ViT-pruning/.venv/lib/python3.11/site-packages (from gensim) (1.13.1)\n",
            "Requirement already satisfied: smart-open>=1.8.1 in /home/ai21btech11012/ViT-pruning/.venv/lib/python3.11/site-packages (from gensim) (7.1.0)\n",
            "Requirement already satisfied: wrapt in /home/ai21btech11012/ViT-pruning/.venv/lib/python3.11/site-packages (from smart-open>=1.8.1->gensim) (1.17.2)\n",
            "Requirement already satisfied: scikit-learn in /home/ai21btech11012/ViT-pruning/.venv/lib/python3.11/site-packages (1.6.1)\n",
            "Requirement already satisfied: numpy>=1.19.5 in /home/ai21btech11012/ViT-pruning/.venv/lib/python3.11/site-packages (from scikit-learn) (1.26.4)\n",
            "Requirement already satisfied: scipy>=1.6.0 in /home/ai21btech11012/ViT-pruning/.venv/lib/python3.11/site-packages (from scikit-learn) (1.13.1)\n",
            "Requirement already satisfied: joblib>=1.2.0 in /home/ai21btech11012/ViT-pruning/.venv/lib/python3.11/site-packages (from scikit-learn) (1.4.2)\n",
            "Requirement already satisfied: threadpoolctl>=3.1.0 in /home/ai21btech11012/ViT-pruning/.venv/lib/python3.11/site-packages (from scikit-learn) (3.5.0)\n"
          ]
        }
      ],
      "source": [
        "!pip install gensim\n",
        "!pip install scikit-learn"
      ]
    },
    {
      "cell_type": "code",
      "execution_count": 14,
      "metadata": {
        "colab": {
          "base_uri": "https://localhost:8080/"
        },
        "id": "IOHqwB5XE9fd",
        "outputId": "3affa195-17c1-4662-9e2d-796fa7f826b6"
      },
      "outputs": [
        {
          "name": "stdout",
          "output_type": "stream",
          "text": [
            "BoW representation shape: (16777, 5000)\n"
          ]
        }
      ],
      "source": [
        "# 1. Use BoW representation\n",
        "from sklearn.feature_extraction.text import CountVectorizer\n",
        "\n",
        "bow_vectorizer = CountVectorizer(max_features=5000)  # Keep only top 5000 words\n",
        "\n",
        "X_train_bow = bow_vectorizer.fit_transform(X_train)\n",
        "X_test_bow = bow_vectorizer.transform(X_test)\n",
        "\n",
        "print(\"BoW representation shape:\", X_train_bow.shape)"
      ]
    },
    {
      "cell_type": "code",
      "execution_count": 15,
      "metadata": {
        "colab": {
          "base_uri": "https://localhost:8080/"
        },
        "id": "9oSHE6dW0wLM",
        "outputId": "f23e685b-4e67-4866-c18f-f3c1b358f507"
      },
      "outputs": [
        {
          "name": "stdout",
          "output_type": "stream",
          "text": [
            "TF-IDF representation shape: (16777, 5000)\n"
          ]
        }
      ],
      "source": [
        "# 2. Use tf-idf vectoriser\n",
        "from sklearn.feature_extraction.text import TfidfVectorizer\n",
        "\n",
        "tfidf_vectorizer = TfidfVectorizer(max_features=5000)    # Use 5000 features\n",
        "X_train_tfidf = tfidf_vectorizer.fit_transform(X_train)\n",
        "X_test_tfidf = tfidf_vectorizer.transform(X_test)\n",
        "\n",
        "print(\"TF-IDF representation shape:\", X_train_tfidf.shape)"
      ]
    },
    {
      "cell_type": "code",
      "execution_count": 16,
      "metadata": {
        "colab": {
          "base_uri": "https://localhost:8080/"
        },
        "id": "FlQNt3vJ2iqm",
        "outputId": "d4b91da1-aec8-4f67-9a50-7a4e95f6fed1"
      },
      "outputs": [
        {
          "name": "stdout",
          "output_type": "stream",
          "text": [
            "Word2Vec representation shape: (16777, 100)\n"
          ]
        }
      ],
      "source": [
        "# 3. Use Word2Vec and train it from scratch\n",
        "from gensim.models import Word2Vec\n",
        "from gensim.utils import simple_preprocess\n",
        "\n",
        "# Tokenize the text data\n",
        "tokenized_train_texts = [text.split() for text in X_train]\n",
        "word2vec_model = Word2Vec(\n",
        "    sentences=tokenized_train_texts,\n",
        "    vector_size=100,            # what dimensions should the vector be of\n",
        "    window=5,                   # Context window size\n",
        "    min_count=2,\n",
        "    sg=1                         # Use skip-gram (sg=1)\n",
        ")\n",
        "\n",
        "\n",
        "# Function to get average word2Vec\n",
        "def get_average_word2vec(text, model, vec_size=100):\n",
        "    words = text.split()\n",
        "    vectorized_words = [model.wv[word] for word in words if word in model.wv]\n",
        "    if not vectorized_words:\n",
        "        return np.zeros(vec_size)\n",
        "    avg_vector = np.mean(vectorized_words, axis=0)\n",
        "    return avg_vector\n",
        "\n",
        "\n",
        "X_train_w2v = np.array([get_average_word2vec(text, word2vec_model, 100) for text in X_train])\n",
        "X_test_w2v = np.array([get_average_word2vec(text, word2vec_model, 100) for text in X_test])\n",
        "\n",
        "print(\"Word2Vec representation shape:\", X_train_w2v.shape)"
      ]
    },
    {
      "cell_type": "code",
      "execution_count": 19,
      "metadata": {
        "id": "xhDG1enuG_Qs"
      },
      "outputs": [
        {
          "name": "stdout",
          "output_type": "stream",
          "text": [
            "Collecting glove_python\n",
            "  Using cached glove_python-0.1.0.tar.gz (263 kB)\n",
            "  Installing build dependencies ... \u001b[?25ldone\n",
            "\u001b[?25h  Getting requirements to build wheel ... \u001b[?25ldone\n",
            "\u001b[?25h  Preparing metadata (pyproject.toml) ... \u001b[?25ldone\n",
            "\u001b[?25hRequirement already satisfied: numpy in /home/ai21btech11012/ViT-pruning/.venv/lib/python3.11/site-packages (from glove_python) (1.26.4)\n",
            "Requirement already satisfied: scipy in /home/ai21btech11012/ViT-pruning/.venv/lib/python3.11/site-packages (from glove_python) (1.13.1)\n",
            "Building wheels for collected packages: glove_python\n",
            "  Building wheel for glove_python (pyproject.toml) ... \u001b[?25lerror\n",
            "  \u001b[1;31merror\u001b[0m: \u001b[1msubprocess-exited-with-error\u001b[0m\n",
            "  \n",
            "  \u001b[31m×\u001b[0m \u001b[32mBuilding wheel for glove_python \u001b[0m\u001b[1;32m(\u001b[0m\u001b[32mpyproject.toml\u001b[0m\u001b[1;32m)\u001b[0m did not run successfully.\n",
            "  \u001b[31m│\u001b[0m exit code: \u001b[1;36m1\u001b[0m\n",
            "  \u001b[31m╰─>\u001b[0m \u001b[31m[44 lines of output]\u001b[0m\n",
            "  \u001b[31m   \u001b[0m <string>:8: SetuptoolsDeprecationWarning: The test command is disabled and references to it are deprecated.\n",
            "  \u001b[31m   \u001b[0m !!\n",
            "  \u001b[31m   \u001b[0m \n",
            "  \u001b[31m   \u001b[0m         ********************************************************************************\n",
            "  \u001b[31m   \u001b[0m         Please remove any references to `setuptools.command.test` in all supported versions of the affected package.\n",
            "  \u001b[31m   \u001b[0m \n",
            "  \u001b[31m   \u001b[0m         This deprecation is overdue, please update your project and remove deprecated\n",
            "  \u001b[31m   \u001b[0m         calls to avoid build errors in the future.\n",
            "  \u001b[31m   \u001b[0m         ********************************************************************************\n",
            "  \u001b[31m   \u001b[0m \n",
            "  \u001b[31m   \u001b[0m !!\n",
            "  \u001b[31m   \u001b[0m /tmp/pip-build-env-fkvxm18x/overlay/lib/python3.11/site-packages/setuptools/_distutils/dist.py:270: UserWarning: Unknown distribution option: 'tests_require'\n",
            "  \u001b[31m   \u001b[0m   warnings.warn(msg)\n",
            "  \u001b[31m   \u001b[0m /tmp/pip-build-env-fkvxm18x/overlay/lib/python3.11/site-packages/setuptools/dist.py:493: SetuptoolsDeprecationWarning: Invalid dash-separated options\n",
            "  \u001b[31m   \u001b[0m !!\n",
            "  \u001b[31m   \u001b[0m \n",
            "  \u001b[31m   \u001b[0m         ********************************************************************************\n",
            "  \u001b[31m   \u001b[0m         Usage of dash-separated 'description-file' will not be supported in future\n",
            "  \u001b[31m   \u001b[0m         versions. Please use the underscore name 'description_file' instead.\n",
            "  \u001b[31m   \u001b[0m \n",
            "  \u001b[31m   \u001b[0m         By 2025-Mar-03, you need to update your project and remove deprecated calls\n",
            "  \u001b[31m   \u001b[0m         or your builds will no longer be supported.\n",
            "  \u001b[31m   \u001b[0m \n",
            "  \u001b[31m   \u001b[0m         See https://setuptools.pypa.io/en/latest/userguide/declarative_config.html for details.\n",
            "  \u001b[31m   \u001b[0m         ********************************************************************************\n",
            "  \u001b[31m   \u001b[0m \n",
            "  \u001b[31m   \u001b[0m !!\n",
            "  \u001b[31m   \u001b[0m   opt = self.warn_dash_deprecation(opt, section)\n",
            "  \u001b[31m   \u001b[0m running bdist_wheel\n",
            "  \u001b[31m   \u001b[0m running build\n",
            "  \u001b[31m   \u001b[0m running build_py\n",
            "  \u001b[31m   \u001b[0m creating build/lib.linux-x86_64-cpython-311/glove\n",
            "  \u001b[31m   \u001b[0m copying glove/glove.py -> build/lib.linux-x86_64-cpython-311/glove\n",
            "  \u001b[31m   \u001b[0m copying glove/__init__.py -> build/lib.linux-x86_64-cpython-311/glove\n",
            "  \u001b[31m   \u001b[0m copying glove/corpus.py -> build/lib.linux-x86_64-cpython-311/glove\n",
            "  \u001b[31m   \u001b[0m running build_ext\n",
            "  \u001b[31m   \u001b[0m building 'glove.glove_cython' extension\n",
            "  \u001b[31m   \u001b[0m creating build/temp.linux-x86_64-cpython-311/glove\n",
            "  \u001b[31m   \u001b[0m x86_64-linux-gnu-gcc -pthread -Wsign-compare -DNDEBUG -g -fwrapv -O2 -Wall -g -fstack-protector-strong -Wformat -Werror=format-security -g -fwrapv -O2 -fPIC -I/home/ai21btech11012/ViT-pruning/.venv/include -I/usr/include/python3.11 -c glove/glove_cython.c -o build/temp.linux-x86_64-cpython-311/glove/glove_cython.o -fopenmp -ffast-math -march=native\n",
            "  \u001b[31m   \u001b[0m glove/glove_cython.c:20:10: fatal error: Python.h: No such file or directory\n",
            "  \u001b[31m   \u001b[0m    20 | #include \"Python.h\"\n",
            "  \u001b[31m   \u001b[0m       |          ^~~~~~~~~~\n",
            "  \u001b[31m   \u001b[0m compilation terminated.\n",
            "  \u001b[31m   \u001b[0m error: command '/usr/bin/x86_64-linux-gnu-gcc' failed with exit code 1\n",
            "  \u001b[31m   \u001b[0m \u001b[31m[end of output]\u001b[0m\n",
            "  \n",
            "  \u001b[1;35mnote\u001b[0m: This error originates from a subprocess, and is likely not a problem with pip.\n",
            "\u001b[?25h\u001b[31m  ERROR: Failed building wheel for glove_python\u001b[0m\u001b[31m\n",
            "\u001b[0mFailed to build glove_python\n",
            "\u001b[31mERROR: Failed to build installable wheels for some pyproject.toml based projects (glove_python)\u001b[0m\u001b[31m\n",
            "\u001b[0m"
          ]
        }
      ],
      "source": [
        "!pip install glove_python"
      ]
    },
    {
      "cell_type": "code",
      "execution_count": 20,
      "metadata": {
        "id": "CJIsHUWKEjL9"
      },
      "outputs": [],
      "source": [
        "# FastText to be added soon"
      ]
    },
    {
      "cell_type": "code",
      "execution_count": null,
      "metadata": {
        "id": "5A3YldKwVrae"
      },
      "outputs": [],
      "source": []
    },
    {
      "cell_type": "markdown",
      "metadata": {
        "id": "VF3mUbAFVrpT"
      },
      "source": [
        "# MODELS"
      ]
    },
    {
      "cell_type": "markdown",
      "metadata": {
        "id": "ImiZmMggVeq9"
      },
      "source": [
        "# Classical\n",
        "## 1. TFIDF + Classifier Chain model using Multinomial Naive Bayes\n",
        "## 2. BOW + BinaryRelevanceSVM\n"
      ]
    },
    {
      "cell_type": "code",
      "execution_count": 21,
      "metadata": {
        "colab": {
          "base_uri": "https://localhost:8080/"
        },
        "id": "id5tu-N3MtlC",
        "outputId": "b0f7744b-0495-4cd2-ec84-376671754755"
      },
      "outputs": [
        {
          "name": "stdout",
          "output_type": "stream",
          "text": [
            "Requirement already satisfied: scikit-multilearn in /home/ai21btech11012/ViT-pruning/.venv/lib/python3.11/site-packages (0.2.0)\n",
            "Requirement already satisfied: scikit-learn in /home/ai21btech11012/ViT-pruning/.venv/lib/python3.11/site-packages (1.6.1)\n",
            "Requirement already satisfied: numpy>=1.19.5 in /home/ai21btech11012/ViT-pruning/.venv/lib/python3.11/site-packages (from scikit-learn) (1.26.4)\n",
            "Requirement already satisfied: scipy>=1.6.0 in /home/ai21btech11012/ViT-pruning/.venv/lib/python3.11/site-packages (from scikit-learn) (1.13.1)\n",
            "Requirement already satisfied: joblib>=1.2.0 in /home/ai21btech11012/ViT-pruning/.venv/lib/python3.11/site-packages (from scikit-learn) (1.4.2)\n",
            "Requirement already satisfied: threadpoolctl>=3.1.0 in /home/ai21btech11012/ViT-pruning/.venv/lib/python3.11/site-packages (from scikit-learn) (3.5.0)\n",
            "Requirement already satisfied: scikit-multilearn in /home/ai21btech11012/ViT-pruning/.venv/lib/python3.11/site-packages (0.2.0)\n",
            "Requirement already satisfied: scikit-learn in /home/ai21btech11012/ViT-pruning/.venv/lib/python3.11/site-packages (1.6.1)\n",
            "Requirement already satisfied: numpy>=1.19.5 in /home/ai21btech11012/ViT-pruning/.venv/lib/python3.11/site-packages (from scikit-learn) (1.26.4)\n",
            "Requirement already satisfied: scipy>=1.6.0 in /home/ai21btech11012/ViT-pruning/.venv/lib/python3.11/site-packages (from scikit-learn) (1.13.1)\n",
            "Requirement already satisfied: joblib>=1.2.0 in /home/ai21btech11012/ViT-pruning/.venv/lib/python3.11/site-packages (from scikit-learn) (1.4.2)\n",
            "Requirement already satisfied: threadpoolctl>=3.1.0 in /home/ai21btech11012/ViT-pruning/.venv/lib/python3.11/site-packages (from scikit-learn) (3.5.0)\n"
          ]
        }
      ],
      "source": [
        "!pip install scikit-multilearn\n",
        "!pip install --upgrade scikit-learn\n",
        "!pip install --upgrade scikit-multilearn\n",
        "!pip install scikit-learn"
      ]
    },
    {
      "cell_type": "code",
      "execution_count": 17,
      "metadata": {
        "id": "DgRd7Y_uEjiP"
      },
      "outputs": [],
      "source": [
        "import sklearn.metrics\n",
        "from skmultilearn.problem_transform import ClassifierChain\n",
        "from sklearn.naive_bayes import MultinomialNB\n",
        "from sklearn.svm import SVC\n",
        "from sklearn.ensemble import RandomForestClassifier\n",
        "from sklearn.multiclass import OneVsRestClassifier\n",
        "from sklearn.metrics import multilabel_confusion_matrix\n",
        "\n",
        "from sklearn.metrics import multilabel_confusion_matrix, confusion_matrix\n",
        "\n",
        "\n",
        "def TestMultiLabel(y_true, y_pred):\n",
        "\n",
        "    exact_match = sklearn.metrics.accuracy_score(y_true, y_pred)\n",
        "    print(f'Exact Match Ratio: {exact_match:.4f}')\n",
        "\n",
        "    hamming_loss = sklearn.metrics.hamming_loss(y_true, y_pred)\n",
        "    print(f'Hamming Loss: {hamming_loss:.4f}')\n",
        "\n",
        "    recall = sklearn.metrics.recall_score(y_true, y_pred, average='samples')\n",
        "    print(f'Recall (Samples): {recall:.4f}')\n",
        "\n",
        "    precision = sklearn.metrics.precision_score(y_true, y_pred, average='samples')\n",
        "    print(f'Precision (Samples): {precision:.4f}')\n",
        "\n",
        "    f1_measure = sklearn.metrics.f1_score(y_true, y_pred, average='samples')\n",
        "    print(f'F1 Measure (Samples): {f1_measure:.4f}')\n",
        "\n",
        "    # cm = multilabel_confusion_matrix(y_true, y_pred)\n",
        "    # plt.imshow(cm, interpolation='nearest', cmap=plt.cm.Blues)\n",
        "    cm = multilabel_confusion_matrix(y_true, y_pred)\n",
        "    num_labels = cm.shape[0]  # Number of labels\n",
        "    \n",
        "    fig, axes = plt.subplots(1, num_labels, figsize=(15, 5))  # One subplot per label\n",
        "    \n",
        "    for i, ax in enumerate(axes):\n",
        "        ax.imshow(cm[i], interpolation='nearest', cmap=plt.cm.Blues)\n",
        "        ax.set_title(f'Label {i}')\n",
        "        ax.set_xticks([0, 1])\n",
        "        ax.set_yticks([0, 1])\n",
        "        ax.set_xlabel('Predicted')\n",
        "        ax.set_ylabel('Actual')\n",
        "\n",
        "    plt.tight_layout()\n",
        "    plt.show()\n"
      ]
    },
    {
      "cell_type": "code",
      "execution_count": 23,
      "metadata": {
        "id": "EI3wfDJMdzdc"
      },
      "outputs": [],
      "source": [
        "class ClassifierChainModel():\n",
        "  def __init__(self,X_train,y_train):\n",
        "    self.model = ClassifierChain(classifier=MultinomialNB())\n",
        "    self.X_train = X_train\n",
        "    self.y_train = y_train\n",
        "\n",
        "  def fit(self):\n",
        "    self.model.fit(self.X_train, self.y_train)\n",
        "\n",
        "  def predict(self, X_test):\n",
        "    out = self.model.predict(X_test)\n",
        "    y_output=[]\n",
        "    for i in range(0,out.shape[0]):\n",
        "      y_output.append(out[i].toarray()[0])\n",
        "      self.y_output=y_output\n",
        "    return y_output\n",
        "\n",
        "  def test(self, y_test):\n",
        "    TestMultiLabel(y_test, self.y_output)\n",
        "\n",
        "\n",
        "class BinaryRelenvanceSVM():\n",
        "  def __init__(self,X_train,y_train):\n",
        "\n",
        "    self.model = OneVsRestClassifier(SVC(kernel='linear'))\n",
        "    self.X_train = X_train\n",
        "    self.y_train = y_train\n",
        "\n",
        "  def fit(self):\n",
        "    self.model.fit(X_train_tfidf, y_train)\n",
        "\n",
        "  def predict(self, X_test):\n",
        "    self.y_output=self.model.predict(X_test_tfidf)\n",
        "    return self.y_output\n",
        "\n",
        "  def test(self,y_test):\n",
        "    TestMultiLabel(y_test,self.y_output)\n",
        "\n",
        "\n",
        "class BinaryRelenvanceRandomForest():\n",
        "  def __init__(self, X_train, y_train):\n",
        "    self.model = OneVsRestClassifier(RandomForestClassifier())\n",
        "    self.X_train = X_train\n",
        "    self.y_train = y_train\n",
        "\n",
        "  def fit(self):\n",
        "    self.model.fit(self.X_train, self.y_train)\n",
        "\n",
        "  def predict(self, X_test):\n",
        "    self.y_output = self.model.predict(X_test)\n",
        "    return self.y_output\n",
        "\n",
        "  def test(self, y_test):\n",
        "    TestMultiLabel(y_test, self.y_output)\n"
      ]
    },
    {
      "cell_type": "markdown",
      "metadata": {},
      "source": [
        "# Model 1 : Classifier Chain Multinomial Naive Bayes\n",
        "### using tfidf embeddings"
      ]
    },
    {
      "cell_type": "code",
      "execution_count": 24,
      "metadata": {
        "colab": {
          "base_uri": "https://localhost:8080/",
          "height": 389
        },
        "id": "lUqEJnkQXS-v",
        "outputId": "d5247aa8-6f10-4833-f4d8-2e681b623dfb"
      },
      "outputs": [
        {
          "name": "stdout",
          "output_type": "stream",
          "text": [
            "Exact Match Ratio: 0.6312\n",
            "Hamming Loss: 0.0847\n",
            "Recall (Samples): 0.8284\n",
            "Precision (Samples): 0.8043\n",
            "F1 Measure (Samples): 0.7974\n"
          ]
        },
        {
          "name": "stderr",
          "output_type": "stream",
          "text": [
            "/home/ai21btech11012/ViT-pruning/.venv/lib/python3.11/site-packages/sklearn/metrics/_classification.py:1565: UndefinedMetricWarning: Precision is ill-defined and being set to 0.0 in samples with no predicted labels. Use `zero_division` parameter to control this behavior.\n",
            "  _warn_prf(average, modifier, f\"{metric.capitalize()} is\", len(result))\n"
          ]
        },
        {
          "data": {
            "image/png": "[encoded data removed]",
            "text/plain": [
              "<Figure size 1500x500 with 6 Axes>"
            ]
          },
          "metadata": {},
          "output_type": "display_data"
        }
      ],
      "source": [
        "# TFIDF + ClassifierChain\n",
        "tfidf_chain=ClassifierChainModel(X_train_tfidf, y_train)\n",
        "tfidf_chain.fit()\n",
        "y_tfidf_cc=tfidf_chain.predict(X_test_tfidf)\n",
        "tfidf_chain.test(y_test)"
      ]
    },
    {
      "cell_type": "markdown",
      "metadata": {},
      "source": [
        "# Model 2: BinaryRelanvenceSVM\n",
        "### using BOW + BinaryRelanvenceSVM"
      ]
    },
    {
      "cell_type": "code",
      "execution_count": 25,
      "metadata": {
        "id": "hm0fUBm-XYSL"
      },
      "outputs": [
        {
          "name": "stdout",
          "output_type": "stream",
          "text": [
            "Exact Match Ratio: 0.6491\n",
            "Hamming Loss: 0.0779\n",
            "Recall (Samples): 0.8095\n",
            "Precision (Samples): 0.8241\n",
            "F1 Measure (Samples): 0.7990\n"
          ]
        },
        {
          "name": "stderr",
          "output_type": "stream",
          "text": [
            "/home/ai21btech11012/ViT-pruning/.venv/lib/python3.11/site-packages/sklearn/metrics/_classification.py:1565: UndefinedMetricWarning: Precision is ill-defined and being set to 0.0 in samples with no predicted labels. Use `zero_division` parameter to control this behavior.\n",
            "  _warn_prf(average, modifier, f\"{metric.capitalize()} is\", len(result))\n"
          ]
        },
        {
          "data": {
            "image/png": "[encoded data removed]",
            "text/plain": [
              "<Figure size 1500x500 with 6 Axes>"
            ]
          },
          "metadata": {},
          "output_type": "display_data"
        }
      ],
      "source": [
        "# BOW + BinaryRelanvenceSVM\n",
        "bow_svm=BinaryRelenvanceSVM(X_train_bow, y_train)\n",
        "bow_svm.fit()\n",
        "y_tfidf_cc=bow_svm.predict(X_test_bow)\n",
        "bow_svm.test(y_test)"
      ]
    },
    {
      "cell_type": "markdown",
      "metadata": {},
      "source": [
        "# Model 2.1 : Random Forest\n",
        "### tfidf embeddings with binary relevance Random Forest\n"
      ]
    },
    {
      "cell_type": "code",
      "execution_count": 26,
      "metadata": {},
      "outputs": [
        {
          "name": "stdout",
          "output_type": "stream",
          "text": [
            "Exact Match Ratio: 0.6167\n",
            "Hamming Loss: 0.0856\n",
            "Recall (Samples): 0.7740\n",
            "Precision (Samples): 0.7924\n",
            "F1 Measure (Samples): 0.7654\n"
          ]
        },
        {
          "name": "stderr",
          "output_type": "stream",
          "text": [
            "/home/ai21btech11012/ViT-pruning/.venv/lib/python3.11/site-packages/sklearn/metrics/_classification.py:1565: UndefinedMetricWarning: Precision is ill-defined and being set to 0.0 in samples with no predicted labels. Use `zero_division` parameter to control this behavior.\n",
            "  _warn_prf(average, modifier, f\"{metric.capitalize()} is\", len(result))\n"
          ]
        },
        {
          "data": {
            "image/png": "[encoded data removed]",
            "text/plain": [
              "<Figure size 1500x500 with 6 Axes>"
            ]
          },
          "metadata": {},
          "output_type": "display_data"
        }
      ],
      "source": [
        "# SVD + TFIDF + BinaryRelenvanceRandomForest\n",
        "from sklearn.decomposition import TruncatedSVD\n",
        "# n_components = 1000\n",
        "# svd = TruncatedSVD(n_components=n_components)\n",
        "# X_train_tfidf_svd = svd.fit_transform(X_train_tfidf)\n",
        "# X_test_tfidf = svd.fit_transform(X_test_tfidf)\n",
        "\n",
        "tfidf_rf=BinaryRelenvanceRandomForest(X_train_tfidf, y_train)\n",
        "tfidf_rf.fit()\n",
        "y_tfidf_cc=tfidf_rf.predict(X_test_tfidf)\n",
        "tfidf_rf.test(y_test)\n"
      ]
    },
    {
      "cell_type": "code",
      "execution_count": 27,
      "metadata": {
        "id": "l1G7CVCAXy3g"
      },
      "outputs": [],
      "source": [
        "# # SVD + TFIDF + BinaryRelenvanceRandomForest\n",
        "# from sklearn.decomposition import TruncatedSVD\n",
        "# n_components = 100\n",
        "# svd = TruncatedSVD(n_components=n_components)\n",
        "# X_train_tfidf_svd = svd.fit_transform(X_train_tfidf)\n",
        "# X_test_tfidf_svd = svd.fit_transform(X_test_tfidf)\n",
        "\n",
        "# tfidf_rf=BinaryRelenvanceRandomForest(X_train_tfidf_svd, y_train)\n",
        "# tfidf_rf.fit()\n",
        "# y_tfidf_cc=tfidf_rf.predict(X_test_tfidf_svd)\n",
        "# tfidf_rf.test(y_test)\n"
      ]
    },
    {
      "cell_type": "markdown",
      "metadata": {
        "id": "hojBjsgxM4za"
      },
      "source": [
        "# Deep Learning\n"
      ]
    },
    {
      "cell_type": "code",
      "execution_count": 57,
      "metadata": {
        "id": "4WPwXlQN9r_A"
      },
      "outputs": [],
      "source": [
        "# split data into train, val, test as 50 20 30\n",
        "\n",
        "mlb = MultiLabelBinarizer()\n",
        "y = mlb.fit_transform(df[\"labels\"])\n",
        "\n",
        "X_train1, X_test_val1, y_train1, y_test_val1 = train_test_split(df[\"processed_text\"], y, test_size=0.5, random_state=42)\n",
        "\n",
        "X_test1, X_val1, y_test1, y_val1 = train_test_split(X_test_val1, y_test_val1, test_size=0.4, random_state=42)\n"
      ]
    },
    {
      "cell_type": "markdown",
      "metadata": {},
      "source": [
        "# Model 3: Bidirectional LSTM\n",
        "### using word2vec embeddings"
      ]
    },
    {
      "cell_type": "code",
      "execution_count": null,
      "metadata": {
        "id": "-VfflUkU95NO"
      },
      "outputs": [],
      "source": [
        "\n",
        "from gensim.models import Word2Vec\n",
        "from gensim.utils import simple_preprocess\n",
        "\n",
        "def Word2VecModel(X_train):\n",
        "  # Tokenize the text data\n",
        "  tokenized_train_texts = [text.split() for text in X_train]\n",
        "  word2vec_model = Word2Vec(\n",
        "      sentences=tokenized_train_texts,\n",
        "      vector_size=100,            # what dimensions should the vector be of\n",
        "      window=5,                   # Context window size\n",
        "      min_count=2,\n",
        "      sg=1                         # Use skip-gram (sg=1)\n",
        "  )\n",
        "  return word2vec_model\n",
        "word2vec_model=Word2VecModel(X_train1)"
      ]
    },
    {
      "cell_type": "code",
      "execution_count": null,
      "metadata": {
        "id": "xNrG4fTJ-2sw"
      },
      "outputs": [],
      "source": [
        "# from torch.utils.data import Dataset\n",
        "\n",
        "# class EmbeddingDataset(Dataset):\n",
        "#     def __init__(self, textdata,labels,vec_size=100,max_len=100):\n",
        "#         self.xTrain = textdata\n",
        "#         self.vec_size=vec_size\n",
        "#         self.yTrain=labels\n",
        "#         self.model = word2vec_model\n",
        "#         self.max_len=max_len\n",
        "\n",
        "#     def __getitem__(self, idx):\n",
        "#         text = self.xTrain.iloc[idx]\n",
        "#         words = text.split()\n",
        "#         vectorized_words = [self.model.wv[word] for word in words if word in self.model.wv]\n",
        "#         # if not vectorized_words:\n",
        "#         #     vectorized_words = [np.zeros(self.vec_size)]\n",
        "\n",
        "#         # vectorized_words = torch.tensor(vectorized_words, dtype=torch.float32)\n",
        "\n",
        "#         # if len(vectorized_words) < self.max_len:\n",
        "#         #     pad_size = self.max_len - len(vectorized_words)\n",
        "#         #     padding = torch.zeros((pad_size, self.vec_size))\n",
        "#         #     vectorized_words = torch.cat([vectorized_words, padding], dim=0)\n",
        "#         # else:\n",
        "#         #     vectorized_words = vectorized_words[:self.max_len]\n",
        "\n",
        "#         # currlabel = torch.tensor(self.yTrain[idx], dtype=torch.float32)\n",
        "\n",
        "#         # return vectorized_words, currlabel\n",
        "\n",
        "#         if not vectorized_words:\n",
        "#           return np.zeros(self.vec_size)\n",
        "#         currlabel = torch.tensor(self.yTrain[idx], dtype=torch.float32)\n",
        "\n",
        "#         return torch.tensor(vectorized_words, dtype=torch.float32), currlabel\n",
        "\n",
        "#     def __len__(self):\n",
        "#         return len(self.xTrain)\n",
        "\n",
        "from torch.utils.data import Dataset\n",
        "import numpy as np\n",
        "import torch\n",
        "\n",
        "class EmbeddingDataset(Dataset):\n",
        "    def __init__(self, textdata, labels, word2vec_model, vec_size=100, max_len=100):\n",
        "        self.xTrain = textdata\n",
        "        self.vec_size = vec_size\n",
        "        self.yTrain = labels\n",
        "        self.model = word2vec_model\n",
        "        self.max_len = max_len\n",
        "\n",
        "    def __getitem__(self, idx):\n",
        "        text = self.xTrain.iloc[idx]\n",
        "        words = text.split()\n",
        "        vectorized_words = [self.model.wv[word] for word in words if word in self.model.wv]        \n",
        "        if not vectorized_words:\n",
        "            vectorized_words = [np.zeros(self.vec_size)]\n",
        "            \n",
        "        vectorized_words = torch.tensor(vectorized_words, dtype=torch.float32)\n",
        "        \n",
        "        if len(vectorized_words) < self.max_len:\n",
        "            pad_size = self.max_len - len(vectorized_words)\n",
        "            padding = torch.zeros((pad_size, self.vec_size))\n",
        "            vectorized_words = torch.cat([vectorized_words, padding], dim=0)\n",
        "        else:\n",
        "            vectorized_words = vectorized_words[:self.max_len]\n",
        "\n",
        "        currlabel = torch.tensor(self.yTrain[idx], dtype=torch.float32)\n",
        "\n",
        "        return vectorized_words, currlabel\n",
        "\n",
        "    def __len__(self):\n",
        "        return len(self.xTrain)\n",
        "\n",
        "train_dataset = EmbeddingDataset(X_train1,y_train1, word2vec_model)\n",
        "train_dataloader = DataLoader(train_dataset, batch_size=64, shuffle=False)\n",
        "\n",
        "val_dataset = EmbeddingDataset(X_val1,y_val1, word2vec_model)\n",
        "val_dataloader = DataLoader(val_dataset, batch_size=64, shuffle=False)\n",
        "\n",
        "test_dataset = EmbeddingDataset(X_test1,y_test1, word2vec_model)\n",
        "test_dataloader = DataLoader(test_dataset, batch_size=64, shuffle=False)"
      ]
    },
    {
      "cell_type": "code",
      "execution_count": 60,
      "metadata": {},
      "outputs": [],
      "source": [
        "class BiLSTMClassiferModel(nn.Module):\n",
        "    def __init__(self, input_dim=100, hidden_dim=128, output_dim=6, num_layers=2):\n",
        "        super(BiLSTMClassiferModel, self).__init__()\n",
        "        self.bilstm = nn.LSTM(input_dim, hidden_dim, num_layers, batch_first=True, bidirectional=True)\n",
        "        self.fc = nn.Linear(hidden_dim * 2, output_dim)\n",
        "        self.sigmoid = nn.Sigmoid()\n",
        "\n",
        "    def forward(self, x):\n",
        "        x, _ = self.bilstm(x)\n",
        "        x = x[:, -1, :]\n",
        "        x = self.fc(x)\n",
        "        out = self.sigmoid(x)\n",
        "        return out"
      ]
    },
    {
      "cell_type": "code",
      "execution_count": 61,
      "metadata": {
        "colab": {
          "base_uri": "https://localhost:8080/"
        },
        "id": "KSEhWjrAAVYh",
        "outputId": "0d4af787-c80a-42d0-9d55-9265f30498d1"
      },
      "outputs": [
        {
          "name": "stdout",
          "output_type": "stream",
          "text": [
            "cuda\n",
            "Epoch [1/10], Train Loss: 0.4044, Val Loss: 0.3283\n",
            "Epoch [2/10], Train Loss: 0.2828, Val Loss: 0.2663\n",
            "Epoch [3/10], Train Loss: 0.2507, Val Loss: 0.2443\n",
            "Epoch [4/10], Train Loss: 0.2336, Val Loss: 0.2248\n",
            "Epoch [5/10], Train Loss: 0.2188, Val Loss: 0.2062\n",
            "Epoch [6/10], Train Loss: 0.2029, Val Loss: 0.2052\n",
            "Epoch [7/10], Train Loss: 0.1958, Val Loss: 0.2044\n",
            "Epoch [8/10], Train Loss: 0.1884, Val Loss: 0.2059\n",
            "Epoch [9/10], Train Loss: 0.1810, Val Loss: 0.2051\n",
            "Epoch [10/10], Train Loss: 0.1733, Val Loss: 0.2085\n"
          ]
        }
      ],
      "source": [
        "device=torch.device(\"cuda\" if torch.cuda.is_available() else \"cpu\")\n",
        "print(device)\n",
        "\n",
        "model = BiLSTMClassiferModel(100, 128, 6, 3).to(device)\n",
        "criterion = nn.BCELoss()\n",
        "optimizer = optim.Adam(model.parameters(), lr=0.005)\n",
        "\n",
        "num_epochs = 10\n",
        "\n",
        "for epoch in range(num_epochs):\n",
        "    # Training Phase\n",
        "    model.train()\n",
        "    total_train_loss = 0\n",
        "\n",
        "    for X, y in train_dataloader:\n",
        "        X, y = X.to(device), y.to(device)\n",
        "        optimizer.zero_grad()\n",
        "        output = model(X)\n",
        "        loss = criterion(output, y)\n",
        "        loss.backward()\n",
        "        optimizer.step()\n",
        "        total_train_loss += loss.item()\n",
        "\n",
        "    avg_train_loss = total_train_loss / len(train_dataloader)\n",
        "\n",
        "    # Validation Phase\n",
        "    model.eval()\n",
        "    total_val_loss = 0\n",
        "\n",
        "    with torch.no_grad():\n",
        "        for X_val, y_val in val_dataloader:\n",
        "            X_val, y_val = X_val.to(device), y_val.to(device)\n",
        "            output_val = model(X_val)            \n",
        "            loss_val = criterion(output_val, y_val)\n",
        "            total_val_loss += loss_val.item()\n",
        "\n",
        "    avg_val_loss = total_val_loss / len(val_dataloader)\n",
        "\n",
        "    print(f\"Epoch [{epoch+1}/{num_epochs}], Train Loss: {avg_train_loss:.4f}, Val Loss: {avg_val_loss:.4f}\")"
      ]
    },
    {
      "cell_type": "code",
      "execution_count": 62,
      "metadata": {
        "colab": {
          "base_uri": "https://localhost:8080/",
          "height": 1000
        },
        "id": "_nlJbzEeYofy",
        "outputId": "905b2955-0d1d-4977-b87a-60102a1f94e4"
      },
      "outputs": [],
      "source": [
        "import numpy as np\n",
        "\n",
        "def Results(model, dataloader, criterion,model_name=\"BiLSTM\",type=\"test\", device=\"none\"):\n",
        "    model.eval()\n",
        "    total_loss = 0\n",
        "    y_true = []\n",
        "    y_pred = []\n",
        "    with torch.no_grad():\n",
        "        for inputs, targets in dataloader:\n",
        "            inputs, targets = inputs.to(device), targets.to(device)\n",
        "\n",
        "            outputs = model(inputs)\n",
        "            loss = criterion(outputs, targets)\n",
        "            total_loss += loss.item()\n",
        "\n",
        "            binary_preds = (outputs > 0.5).cpu().numpy()\n",
        "            true_labels = targets.cpu().numpy()\n",
        "\n",
        "            y_pred.append(binary_preds)\n",
        "            y_true.append(true_labels)\n",
        "\n",
        "    print(f'{model_name} {type} loss is {total_loss / len(dataloader)}')\n",
        "    y_pred = np.vstack(y_pred)\n",
        "    y_true = np.vstack(y_true)\n",
        "    return y_pred, y_true"
      ]
    },
    {
      "cell_type": "code",
      "execution_count": 64,
      "metadata": {},
      "outputs": [
        {
          "name": "stdout",
          "output_type": "stream",
          "text": [
            "BiLSTM train loss is 0.16756225481811093\n",
            "BiLSTM validation loss is 0.20853365844849384\n",
            "BiLSTM test loss is 0.2120826868998884\n",
            "Exact Match Ratio: 0.6838\n",
            "Hamming Loss: 0.0693\n",
            "Recall (Samples): 0.8414\n",
            "Precision (Samples): 0.8507\n",
            "F1 Measure (Samples): 0.8288\n"
          ]
        },
        {
          "name": "stderr",
          "output_type": "stream",
          "text": [
            "/home/ai21btech11012/ViT-pruning/.venv/lib/python3.11/site-packages/sklearn/metrics/_classification.py:1565: UndefinedMetricWarning: Precision is ill-defined and being set to 0.0 in samples with no predicted labels. Use `zero_division` parameter to control this behavior.\n",
            "  _warn_prf(average, modifier, f\"{metric.capitalize()} is\", len(result))\n"
          ]
        },
        {
          "data": {
            "image/png": "[encoded data removed]",
            "text/plain": [
              "<Figure size 1500x500 with 6 Axes>"
            ]
          },
          "metadata": {},
          "output_type": "display_data"
        },
        {
          "name": "stdout",
          "output_type": "stream",
          "text": [
            "Exact Match Ratio: 0.6360\n",
            "Hamming Loss: 0.0844\n",
            "Recall (Samples): 0.8095\n",
            "Precision (Samples): 0.8162\n",
            "F1 Measure (Samples): 0.7943\n"
          ]
        },
        {
          "name": "stderr",
          "output_type": "stream",
          "text": [
            "/home/ai21btech11012/ViT-pruning/.venv/lib/python3.11/site-packages/sklearn/metrics/_classification.py:1565: UndefinedMetricWarning: Precision is ill-defined and being set to 0.0 in samples with no predicted labels. Use `zero_division` parameter to control this behavior.\n",
            "  _warn_prf(average, modifier, f\"{metric.capitalize()} is\", len(result))\n"
          ]
        },
        {
          "data": {
            "image/png": "[encoded data removed]",
            "text/plain": [
              "<Figure size 1500x500 with 6 Axes>"
            ]
          },
          "metadata": {},
          "output_type": "display_data"
        },
        {
          "name": "stdout",
          "output_type": "stream",
          "text": [
            "Exact Match Ratio: 0.6379\n",
            "Hamming Loss: 0.0842\n",
            "Recall (Samples): 0.8087\n",
            "Precision (Samples): 0.8196\n",
            "F1 Measure (Samples): 0.7958\n"
          ]
        },
        {
          "name": "stderr",
          "output_type": "stream",
          "text": [
            "/home/ai21btech11012/ViT-pruning/.venv/lib/python3.11/site-packages/sklearn/metrics/_classification.py:1565: UndefinedMetricWarning: Precision is ill-defined and being set to 0.0 in samples with no predicted labels. Use `zero_division` parameter to control this behavior.\n",
            "  _warn_prf(average, modifier, f\"{metric.capitalize()} is\", len(result))\n"
          ]
        },
        {
          "data": {
            "image/png": "[encoded data removed]",
            "text/plain": [
              "<Figure size 1500x500 with 6 Axes>"
            ]
          },
          "metadata": {},
          "output_type": "display_data"
        }
      ],
      "source": [
        "# Run Evaluation\n",
        "y_train_pred, y_train_true = Results(model, train_dataloader, criterion,model_name=\"BiLSTM\",type=\"train\", device=device)\n",
        "y_val_pred,y_val_true = Results(model, val_dataloader, criterion,model_name=\"BiLSTM\",type=\"validation\", device=device)\n",
        "y_test_pred, y_test_true = Results(model, test_dataloader, criterion,model_name=\"BiLSTM\",type=\"test\", device=device)\n",
        "\n",
        "TestMultiLabel(y_train_true, y_train_pred)\n",
        "TestMultiLabel(y_val_true, y_val_pred)\n",
        "TestMultiLabel(y_test_true, y_test_pred)"
      ]
    },
    {
      "cell_type": "code",
      "execution_count": null,
      "metadata": {
        "colab": {
          "base_uri": "https://localhost:8080/"
        },
        "id": "UPL1PvjBAZcC",
        "outputId": "052b8fb3-b79a-479c-8db7-438a5510a4f5"
      },
      "outputs": [
        {
          "name": "stdout",
          "output_type": "stream",
          "text": [
            "Test Loss: 0.2121\n"
          ]
        }
      ],
      "source": [
        "# model.eval()\n",
        "# total_test_loss = 0\n",
        "\n",
        "# with torch.no_grad():\n",
        "#     for X_test, y_test in test_dataloader:\n",
        "#         X_test, y_test = X_test.to(device), y_test.to(device)\n",
        "#         output_test = model(X_test)\n",
        "#         loss_test = criterion(output_test, y_test)\n",
        "#         total_test_loss += loss_test.item()\n",
        "\n",
        "# avg_test_loss = total_test_loss / len(test_dataloader)\n",
        "# print(f\"Test Loss: {avg_test_loss:.4f}\")\n"
      ]
    },
    {
      "cell_type": "markdown",
      "metadata": {},
      "source": [
        "# Model 4: Feed Forward Neural Network\n",
        "### using sentence average fasttext embeddings"
      ]
    },
    {
      "cell_type": "code",
      "execution_count": 69,
      "metadata": {},
      "outputs": [],
      "source": [
        "from gensim.models import FastText\n",
        "from nltk.tokenize import word_tokenize\n",
        "# Tokenize text into words\n",
        "train_tokens = X_train.apply(word_tokenize).tolist()\n",
        "\n",
        "# Train FastText model\n",
        "fastText_model = FastText(sentences=train_tokens, vector_size=100, window=5, min_count=2, workers=4)"
      ]
    },
    {
      "cell_type": "code",
      "execution_count": 71,
      "metadata": {
        "colab": {
          "base_uri": "https://localhost:8080/"
        },
        "id": "cWoDfVWLAaYa",
        "outputId": "0294e5b1-4dc3-4e6d-f8df-2988d7e800c9"
      },
      "outputs": [
        {
          "name": "stdout",
          "output_type": "stream",
          "text": [
            "fast Text representation shape: (10486, 100)\n"
          ]
        }
      ],
      "source": [
        "def get_average_fastText(text, model, vec_size=100):\n",
        "    words = text.split()\n",
        "    vectorized_words = [model.wv[word] for word in words if word in model.wv]\n",
        "    if not vectorized_words:\n",
        "        return np.zeros(vec_size)\n",
        "    avg_vector = np.mean(vectorized_words, axis=0)\n",
        "    return avg_vector\n",
        "\n",
        "X_train1_fastText = np.array([get_average_fastText(text, word2vec_model, 100) for text in X_train1])\n",
        "X_val1_fastText = np.array([get_average_fastText(text, word2vec_model, 100) for text in X_val1])\n",
        "X_test1_fastText = np.array([get_average_fastText(text, word2vec_model, 100) for text in X_test1])\n",
        "\n",
        "print(\"fast Text representation shape:\", X_train1_fastText.shape)"
      ]
    },
    {
      "cell_type": "code",
      "execution_count": 72,
      "metadata": {
        "colab": {
          "base_uri": "https://localhost:8080/"
        },
        "id": "q5CEAseCAvfW",
        "outputId": "f9f9bc97-3c11-405e-fa22-f41d6c90a0bd"
      },
      "outputs": [],
      "source": [
        "import torch\n",
        "import torch.nn as nn\n",
        "import torch.optim as optim\n",
        "from torch.utils.data import DataLoader, TensorDataset\n",
        "\n",
        "class ANNModel(nn.Module):\n",
        "    def __init__(self, input_size, hidden_size, output_size):\n",
        "        super(ANNModel, self).__init__()\n",
        "        self.fc1 = nn.Linear(input_size, hidden_size)\n",
        "        self.relu = nn.ReLU()\n",
        "        self.fc2 = nn.Linear(hidden_size, output_size)\n",
        "        self.sigmoid = nn.Sigmoid()\n",
        "\n",
        "    def forward(self, x):\n",
        "        x = self.fc1(x)\n",
        "        x = self.relu(x)\n",
        "        x = self.fc2(x)\n",
        "        x = self.sigmoid(x)\n",
        "        return x\n"
      ]
    },
    {
      "cell_type": "code",
      "execution_count": 75,
      "metadata": {},
      "outputs": [],
      "source": [
        "\n",
        "X_train_tensor = torch.tensor(X_train1_fastText, dtype=torch.float32).to(device)\n",
        "y_train_tensor = torch.tensor(y_train1, dtype=torch.float32).to(device)\n",
        "X_val_tensor = torch.tensor(X_val1_fastText, dtype=torch.float32).to(device)\n",
        "y_val_tensor = torch.tensor(y_val1, dtype=torch.float32).to(device)\n",
        "X_test_tensor = torch.tensor(X_test1_fastText, dtype=torch.float32).to(device)\n",
        "y_test_tensor = torch.tensor(y_test1, dtype=torch.float32).to(device)\n",
        "\n",
        "train_dataset = TensorDataset(X_train_tensor, y_train_tensor)\n",
        "train_dataloader = DataLoader(train_dataset, batch_size=32, shuffle=True)\n",
        "val_dataset = TensorDataset(X_val_tensor, y_val_tensor)\n",
        "val_dataloader = DataLoader(val_dataset, batch_size=32, shuffle=False)\n",
        "test_dataset = TensorDataset(X_test_tensor, y_test_tensor)\n",
        "test_dataloader = DataLoader(test_dataset, batch_size=32, shuffle=False)\n"
      ]
    },
    {
      "cell_type": "code",
      "execution_count": 76,
      "metadata": {},
      "outputs": [
        {
          "name": "stdout",
          "output_type": "stream",
          "text": [
            "Epoch [1/10], Train Loss: 0.3275, Val Loss: 0.2381\n",
            "Epoch [2/10], Train Loss: 0.2235, Val Loss: 0.2157\n",
            "Epoch [3/10], Train Loss: 0.2083, Val Loss: 0.2057\n",
            "Epoch [4/10], Train Loss: 0.2014, Val Loss: 0.2009\n",
            "Epoch [5/10], Train Loss: 0.1974, Val Loss: 0.1982\n",
            "Epoch [6/10], Train Loss: 0.1941, Val Loss: 0.1948\n",
            "Epoch [7/10], Train Loss: 0.1917, Val Loss: 0.1931\n",
            "Epoch [8/10], Train Loss: 0.1897, Val Loss: 0.1934\n",
            "Epoch [9/10], Train Loss: 0.1881, Val Loss: 0.1902\n",
            "Epoch [10/10], Train Loss: 0.1865, Val Loss: 0.1889\n"
          ]
        }
      ],
      "source": [
        "model_ann = ANNModel(100, 128, 6).to(device)\n",
        "criterion = nn.BCELoss()\n",
        "optimizer = optim.Adam(model_ann.parameters(), lr=0.001)\n",
        "num_epochs = 10\n",
        "\n",
        "for epoch in range(num_epochs):\n",
        "    model_ann.train()\n",
        "    total_loss = 0\n",
        "    for X_batch, y_batch in train_dataloader:\n",
        "        optimizer.zero_grad()\n",
        "        output = model_ann(X_batch)\n",
        "        loss = criterion(output, y_batch)\n",
        "        loss.backward()\n",
        "        optimizer.step()\n",
        "        total_loss += loss.item()\n",
        "    model_ann.eval()\n",
        "    total_val_loss = 0\n",
        "    with torch.no_grad():\n",
        "        for X_val_batch, y_val_batch in val_dataloader:\n",
        "            output_val = model_ann(X_val_batch)\n",
        "            loss_val = criterion(output_val, y_val_batch)\n",
        "            total_val_loss += loss_val.item()\n",
        "    print(f\"Epoch [{epoch+1}/{num_epochs}], Train Loss: {total_loss/len(train_dataloader):.4f}, Val Loss: {total_val_loss/len(val_dataloader):.4f}\")\n",
        "\n",
        "# model_ann.eval()\n",
        "# total_test_loss = 0\n",
        "# with torch.no_grad():\n",
        "#     for X_test_batch, y_test_batch in test_dataloader:\n",
        "#         output_test = model_ann(X_test_batch)\n",
        "#         loss_test = criterion(output_test, y_test_batch)\n",
        "#         total_test_loss += loss_test.item()\n",
        "# print(f\"Final Test Loss: {total_test_loss/len(test_dataloader):.4f}\")\n"
      ]
    },
    {
      "cell_type": "code",
      "execution_count": 77,
      "metadata": {},
      "outputs": [
        {
          "name": "stdout",
          "output_type": "stream",
          "text": [
            "ANN train loss is 0.18519005499689317\n",
            "ANN validation loss is 0.18889877640388228\n",
            "ANN test loss is 0.18797434193228707\n",
            "Exact Match Ratio: 0.6634\n",
            "Hamming Loss: 0.0768\n",
            "Recall (Samples): 0.8244\n",
            "Precision (Samples): 0.8358\n",
            "F1 Measure (Samples): 0.8121\n"
          ]
        },
        {
          "name": "stderr",
          "output_type": "stream",
          "text": [
            "/home/ai21btech11012/ViT-pruning/.venv/lib/python3.11/site-packages/sklearn/metrics/_classification.py:1565: UndefinedMetricWarning: Precision is ill-defined and being set to 0.0 in samples with no predicted labels. Use `zero_division` parameter to control this behavior.\n",
            "  _warn_prf(average, modifier, f\"{metric.capitalize()} is\", len(result))\n"
          ]
        },
        {
          "data": {
            "image/png": "[encoded data removed]",
            "text/plain": [
              "<Figure size 1500x500 with 6 Axes>"
            ]
          },
          "metadata": {},
          "output_type": "display_data"
        },
        {
          "name": "stdout",
          "output_type": "stream",
          "text": [
            "Exact Match Ratio: 0.6636\n",
            "Hamming Loss: 0.0782\n",
            "Recall (Samples): 0.8226\n",
            "Precision (Samples): 0.8377\n",
            "F1 Measure (Samples): 0.8121\n"
          ]
        },
        {
          "name": "stderr",
          "output_type": "stream",
          "text": [
            "/home/ai21btech11012/ViT-pruning/.venv/lib/python3.11/site-packages/sklearn/metrics/_classification.py:1565: UndefinedMetricWarning: Precision is ill-defined and being set to 0.0 in samples with no predicted labels. Use `zero_division` parameter to control this behavior.\n",
            "  _warn_prf(average, modifier, f\"{metric.capitalize()} is\", len(result))\n"
          ]
        },
        {
          "data": {
            "image/png": "[encoded data removed]",
            "text/plain": [
              "<Figure size 1500x500 with 6 Axes>"
            ]
          },
          "metadata": {},
          "output_type": "display_data"
        },
        {
          "name": "stdout",
          "output_type": "stream",
          "text": [
            "Exact Match Ratio: 0.6621\n",
            "Hamming Loss: 0.0771\n",
            "Recall (Samples): 0.8242\n",
            "Precision (Samples): 0.8398\n",
            "F1 Measure (Samples): 0.8134\n"
          ]
        },
        {
          "name": "stderr",
          "output_type": "stream",
          "text": [
            "/home/ai21btech11012/ViT-pruning/.venv/lib/python3.11/site-packages/sklearn/metrics/_classification.py:1565: UndefinedMetricWarning: Precision is ill-defined and being set to 0.0 in samples with no predicted labels. Use `zero_division` parameter to control this behavior.\n",
            "  _warn_prf(average, modifier, f\"{metric.capitalize()} is\", len(result))\n"
          ]
        },
        {
          "data": {
            "image/png": "[encoded data removed]",
            "text/plain": [
              "<Figure size 1500x500 with 6 Axes>"
            ]
          },
          "metadata": {},
          "output_type": "display_data"
        }
      ],
      "source": [
        "# Run Evaluation\n",
        "y_train_pred, y_train_true = Results(model_ann, train_dataloader, criterion,model_name=\"ANN\",type=\"train\", device=device)\n",
        "y_val_pred,y_val_true = Results(model_ann, val_dataloader, criterion,model_name=\"ANN\",type=\"validation\", device=device)\n",
        "y_test_pred, y_test_true = Results(model_ann, test_dataloader, criterion,model_name=\"ANN\",type=\"test\", device=device)\n",
        "\n",
        "TestMultiLabel(y_train_true, y_train_pred)\n",
        "TestMultiLabel(y_val_true, y_val_pred)\n",
        "TestMultiLabel(y_test_true, y_test_pred)"
      ]
    },
    {
      "cell_type": "markdown",
      "metadata": {},
      "source": [
        "# Conclusion"
      ]
    },
    {
      "cell_type": "markdown",
      "metadata": {
        "id": "8cjbNJu7gPks"
      },
      "source": [
        "## Dataset - 2"
      ]
    },
    {
      "cell_type": "code",
      "execution_count": 1,
      "metadata": {
        "id": "ILwbAOeilmOI"
      },
      "outputs": [],
      "source": [
        "# Imports\n",
        "import pandas as pd\n",
        "import numpy as np\n",
        "import matplotlib.pyplot as plt\n",
        "import seaborn as sns\n",
        "import nltk\n",
        "import re\n",
        "from nltk.corpus import stopwords\n",
        "from nltk.stem import PorterStemmer\n",
        "from nltk.stem import WordNetLemmatizer\n",
        "from sklearn.model_selection import train_test_split\n",
        "from sklearn.preprocessing import MultiLabelBinarizer\n",
        "from sklearn.feature_extraction.text import CountVectorizer\n",
        "from sklearn.feature_extraction.text import TfidfVectorizer\n",
        "\n",
        "import torch\n",
        "import torch.nn as nn\n",
        "import torch.optim as optim\n",
        "from torch.utils.data import Dataset, DataLoader\n",
        "from torch.nn.utils.rnn import pad_sequence\n"
      ]
    },
    {
      "cell_type": "code",
      "execution_count": 2,
      "metadata": {
        "colab": {
          "base_uri": "https://localhost:8080/"
        },
        "id": "HAvfTN6Blo5Q",
        "outputId": "6349ee90-b0c2-4f9f-fcbe-efaabb2ee682"
      },
      "outputs": [
        {
          "name": "stderr",
          "output_type": "stream",
          "text": [
            "[nltk_data] Downloading package stopwords to\n",
            "[nltk_data]     /home/ai21btech11012/nltk_data...\n",
            "[nltk_data]   Package stopwords is already up-to-date!\n"
          ]
        },
        {
          "data": {
            "text/plain": [
              "True"
            ]
          },
          "execution_count": 2,
          "metadata": {},
          "output_type": "execute_result"
        }
      ],
      "source": [
        "# Download stopwords if not already available\n",
        "nltk.download('stopwords')"
      ]
    },
    {
      "cell_type": "code",
      "execution_count": 3,
      "metadata": {
        "colab": {
          "base_uri": "https://localhost:8080/",
          "height": 206
        },
        "id": "qm_LdvS_gOKo",
        "outputId": "94dc367a-23d0-40b6-b4d4-809e5ae7e422"
      },
      "outputs": [
        {
          "data": {
            "text/html": [
              "<div>\n",
              "<style scoped>\n",
              "    .dataframe tbody tr th:only-of-type {\n",
              "        vertical-align: middle;\n",
              "    }\n",
              "\n",
              "    .dataframe tbody tr th {\n",
              "        vertical-align: top;\n",
              "    }\n",
              "\n",
              "    .dataframe thead th {\n",
              "        text-align: right;\n",
              "    }\n",
              "</style>\n",
              "<table border=\"1\" class=\"dataframe\">\n",
              "  <thead>\n",
              "    <tr style=\"text-align: right;\">\n",
              "      <th></th>\n",
              "      <th>ID</th>\n",
              "      <th>Content</th>\n",
              "      <th>Domain</th>\n",
              "    </tr>\n",
              "  </thead>\n",
              "  <tbody>\n",
              "    <tr>\n",
              "      <th>0</th>\n",
              "      <td>1</td>\n",
              "      <td>engali Binodiini Ekti Natir Putul Chaalchitro ...</td>\n",
              "      <td>Entertainment</td>\n",
              "    </tr>\n",
              "    <tr>\n",
              "      <th>1</th>\n",
              "      <td>2</td>\n",
              "      <td>ChiefsAholic A Wolf In Chiefs Clothing articl...</td>\n",
              "      <td>Entertainment</td>\n",
              "    </tr>\n",
              "    <tr>\n",
              "      <th>2</th>\n",
              "      <td>3</td>\n",
              "      <td>Kabandha Your Rating Write a review Optional C...</td>\n",
              "      <td>Entertainment</td>\n",
              "    </tr>\n",
              "    <tr>\n",
              "      <th>3</th>\n",
              "      <td>4</td>\n",
              "      <td>In Bruges 2008 R 1h 47m IMDb RATING 79 10 474K...</td>\n",
              "      <td>Entertainment</td>\n",
              "    </tr>\n",
              "    <tr>\n",
              "      <th>4</th>\n",
              "      <td>5</td>\n",
              "      <td>Men in Black 2012 PG13 1h 46m IMDb RATING 68 1...</td>\n",
              "      <td>Entertainment</td>\n",
              "    </tr>\n",
              "  </tbody>\n",
              "</table>\n",
              "</div>"
            ],
            "text/plain": [
              "   ID                                            Content         Domain\n",
              "0   1  engali Binodiini Ekti Natir Putul Chaalchitro ...  Entertainment\n",
              "1   2   ChiefsAholic A Wolf In Chiefs Clothing articl...  Entertainment\n",
              "2   3  Kabandha Your Rating Write a review Optional C...  Entertainment\n",
              "3   4  In Bruges 2008 R 1h 47m IMDb RATING 79 10 474K...  Entertainment\n",
              "4   5  Men in Black 2012 PG13 1h 46m IMDb RATING 68 1...  Entertainment"
            ]
          },
          "execution_count": 3,
          "metadata": {},
          "output_type": "execute_result"
        }
      ],
      "source": [
        "file_path = 'sample_data/A2D2.xlsx'\n",
        "df = pd.read_excel(file_path)\n",
        "df.head()"
      ]
    },
    {
      "cell_type": "code",
      "execution_count": 4,
      "metadata": {
        "colab": {
          "base_uri": "https://localhost:8080/"
        },
        "id": "RD2b8ayFgUBo",
        "outputId": "1e47c768-2e10-43ab-8881-b86fad4832ad"
      },
      "outputs": [
        {
          "name": "stdout",
          "output_type": "stream",
          "text": [
            "<class 'pandas.core.frame.DataFrame'>\n",
            "RangeIndex: 3927 entries, 0 to 3926\n",
            "Data columns (total 3 columns):\n",
            " #   Column   Non-Null Count  Dtype \n",
            "---  ------   --------------  ----- \n",
            " 0   ID       3927 non-null   int64 \n",
            " 1   Content  3927 non-null   object\n",
            " 2   Domain   3927 non-null   object\n",
            "dtypes: int64(1), object(2)\n",
            "memory usage: 92.2+ KB\n",
            "None\n"
          ]
        }
      ],
      "source": [
        "# Check for missing values,  class imbalance, and other issues.\n",
        "print(df.info())"
      ]
    },
    {
      "cell_type": "code",
      "execution_count": 5,
      "metadata": {
        "colab": {
          "base_uri": "https://localhost:8080/",
          "height": 272
        },
        "id": "LjzxnhwogWod",
        "outputId": "43ed222a-fdd6-4f39-e65e-07b2415bd92d"
      },
      "outputs": [
        {
          "data": {
            "text/plain": [
              "Domain\n",
              "Technology       1474\n",
              "Healthcare        913\n",
              "Entertainment     636\n",
              "Tourism           562\n",
              "Sports            342\n",
              "Name: count, dtype: int64"
            ]
          },
          "execution_count": 5,
          "metadata": {},
          "output_type": "execute_result"
        }
      ],
      "source": [
        "# Check the unique labels and their counts\n",
        "df['Domain'].value_counts()"
      ]
    },
    {
      "cell_type": "markdown",
      "metadata": {
        "id": "XPoJFhFigoM2"
      },
      "source": [
        "## Data Preprocessing\n",
        "Now that we know this is a multi-class classification problem and NOT multi-label classification problem, we :-\n",
        "1. Use the process_text function defined above for processing text\n",
        "2. Create and encode labels\n",
        "3. Split data into train-val-test sets"
      ]
    },
    {
      "cell_type": "code",
      "execution_count": 6,
      "metadata": {
        "id": "0V8s9m-zgrZk"
      },
      "outputs": [],
      "source": [
        "def process_text(text):\n",
        "    if pd.isna(text):\n",
        "        return ''\n",
        "    text = text.lower()\n",
        "    text = re.sub(r'\\s+', ' ', text)  # Remove extra spaces\n",
        "    text = re.sub(r'[^a-zA-Z0-9\\s]', '', text)  # Remove special characters\n",
        "\n",
        "    # Remove stop words\n",
        "    stop_words = set(stopwords.words('english'))\n",
        "    words = text.split()\n",
        "    words = [word for word in words if word not in stop_words]\n",
        "\n",
        "    new_processed_text = ' '.join(words)\n",
        "    return new_processed_text"
      ]
    },
    {
      "cell_type": "code",
      "execution_count": 7,
      "metadata": {
        "colab": {
          "base_uri": "https://localhost:8080/",
          "height": 206
        },
        "id": "faHmXwPogtmV",
        "outputId": "8c9c7e5a-2e5e-42e8-8eab-acbadd6e10ef"
      },
      "outputs": [
        {
          "data": {
            "text/html": [
              "<div>\n",
              "<style scoped>\n",
              "    .dataframe tbody tr th:only-of-type {\n",
              "        vertical-align: middle;\n",
              "    }\n",
              "\n",
              "    .dataframe tbody tr th {\n",
              "        vertical-align: top;\n",
              "    }\n",
              "\n",
              "    .dataframe thead th {\n",
              "        text-align: right;\n",
              "    }\n",
              "</style>\n",
              "<table border=\"1\" class=\"dataframe\">\n",
              "  <thead>\n",
              "    <tr style=\"text-align: right;\">\n",
              "      <th></th>\n",
              "      <th>ID</th>\n",
              "      <th>Content</th>\n",
              "      <th>Domain</th>\n",
              "      <th>Processed_Content</th>\n",
              "    </tr>\n",
              "  </thead>\n",
              "  <tbody>\n",
              "    <tr>\n",
              "      <th>0</th>\n",
              "      <td>1</td>\n",
              "      <td>engali Binodiini Ekti Natir Putul Chaalchitro ...</td>\n",
              "      <td>Entertainment</td>\n",
              "      <td>engali binodiini ekti natir putul chaalchitro ...</td>\n",
              "    </tr>\n",
              "    <tr>\n",
              "      <th>1</th>\n",
              "      <td>2</td>\n",
              "      <td>ChiefsAholic A Wolf In Chiefs Clothing articl...</td>\n",
              "      <td>Entertainment</td>\n",
              "      <td>chiefsaholic wolf chiefs clothing articleshowc...</td>\n",
              "    </tr>\n",
              "    <tr>\n",
              "      <th>2</th>\n",
              "      <td>3</td>\n",
              "      <td>Kabandha Your Rating Write a review Optional C...</td>\n",
              "      <td>Entertainment</td>\n",
              "      <td>kabandha rating write review optional characte...</td>\n",
              "    </tr>\n",
              "    <tr>\n",
              "      <th>3</th>\n",
              "      <td>4</td>\n",
              "      <td>In Bruges 2008 R 1h 47m IMDb RATING 79 10 474K...</td>\n",
              "      <td>Entertainment</td>\n",
              "      <td>bruges 2008 r 1h 47m imdb rating 79 10 474k ra...</td>\n",
              "    </tr>\n",
              "    <tr>\n",
              "      <th>4</th>\n",
              "      <td>5</td>\n",
              "      <td>Men in Black 2012 PG13 1h 46m IMDb RATING 68 1...</td>\n",
              "      <td>Entertainment</td>\n",
              "      <td>men black 2012 pg13 1h 46m imdb rating 68 10 3...</td>\n",
              "    </tr>\n",
              "  </tbody>\n",
              "</table>\n",
              "</div>"
            ],
            "text/plain": [
              "   ID                                            Content         Domain  \\\n",
              "0   1  engali Binodiini Ekti Natir Putul Chaalchitro ...  Entertainment   \n",
              "1   2   ChiefsAholic A Wolf In Chiefs Clothing articl...  Entertainment   \n",
              "2   3  Kabandha Your Rating Write a review Optional C...  Entertainment   \n",
              "3   4  In Bruges 2008 R 1h 47m IMDb RATING 79 10 474K...  Entertainment   \n",
              "4   5  Men in Black 2012 PG13 1h 46m IMDb RATING 68 1...  Entertainment   \n",
              "\n",
              "                                   Processed_Content  \n",
              "0  engali binodiini ekti natir putul chaalchitro ...  \n",
              "1  chiefsaholic wolf chiefs clothing articleshowc...  \n",
              "2  kabandha rating write review optional characte...  \n",
              "3  bruges 2008 r 1h 47m imdb rating 79 10 474k ra...  \n",
              "4  men black 2012 pg13 1h 46m imdb rating 68 10 3...  "
            ]
          },
          "execution_count": 7,
          "metadata": {},
          "output_type": "execute_result"
        }
      ],
      "source": [
        "df[\"Processed_Content\"] = df[\"Content\"].apply(process_text)\n",
        "df.head()"
      ]
    },
    {
      "cell_type": "code",
      "execution_count": 8,
      "metadata": {
        "colab": {
          "base_uri": "https://localhost:8080/"
        },
        "id": "T8IzrGYcgvgA",
        "outputId": "2fb9fdf5-d978-4391-cd4e-a43745e0866c"
      },
      "outputs": [
        {
          "name": "stdout",
          "output_type": "stream",
          "text": [
            "{0: 'Entertainment', 1: 'Healthcare', 2: 'Sports', 3: 'Technology', 4: 'Tourism'}\n"
          ]
        }
      ],
      "source": [
        "df[\"Label\"] = df[\"Domain\"].astype(\"category\").cat.codes\n",
        "label_mapping = dict(enumerate(df[\"Domain\"].astype(\"category\").cat.categories))\n",
        "print(label_mapping)"
      ]
    },
    {
      "cell_type": "code",
      "execution_count": 9,
      "metadata": {
        "id": "9Wvyk7aJgxSP"
      },
      "outputs": [],
      "source": [
        "# Split into Train and Test sets\n",
        "train_texts, val_and_test_texts, train_labels, val_and_test_labels = train_test_split(\n",
        "    df[\"Processed_Content\"], df[\"Label\"], test_size=0.5, random_state=42, stratify=df[\"Label\"]\n",
        ")\n",
        "\n",
        "val_texts, test_texts, val_labels, test_labels = train_test_split(\n",
        "    val_and_test_texts, val_and_test_labels, test_size=0.4, random_state=42, stratify=val_and_test_labels\n",
        ")"
      ]
    },
    {
      "cell_type": "code",
      "execution_count": 10,
      "metadata": {
        "colab": {
          "base_uri": "https://localhost:8080/"
        },
        "id": "1FZmaBx_gy-C",
        "outputId": "5aebd555-206d-48f6-fbb0-43812ce80179"
      },
      "outputs": [
        {
          "name": "stdout",
          "output_type": "stream",
          "text": [
            "Train size: 1963, Validation size: 1178, Test size: 786\n"
          ]
        }
      ],
      "source": [
        "train_df = pd.DataFrame({\"text\": train_texts, \"label\": train_labels})\n",
        "val_df = pd.DataFrame({\"text\": val_texts, \"label\": val_labels})\n",
        "test_df = pd.DataFrame({\"text\": test_texts, \"label\": test_labels})\n",
        "\n",
        "print(f\"Train size: {len(train_df)}, Validation size: {len(val_df)}, Test size: {len(test_df)}\")"
      ]
    },
    {
      "cell_type": "markdown",
      "metadata": {
        "id": "ojm-CZ7rg4FZ"
      },
      "source": [
        "## Feature extraction/Representation\n",
        "Convert text data (titles and abstracts) into numerical representations\n",
        "1. Bag of Words (BoW)\n",
        "2. TF-IDF (Term Frequency-Inverse Document Frequency)\n",
        "3. Word Embeddings (Word2Vec, FastText)\n",
        "\n",
        "- We will be using **TF-IDF** since it is known to work well with text classification using *Classical ML models*.\n",
        "- Among word embeddings, we would experiment with **Word2Vec** and **FastText** for *Deep Learning models*."
      ]
    },
    {
      "cell_type": "code",
      "execution_count": 100,
      "metadata": {},
      "outputs": [],
      "source": [
        "y_test=test_df[\"label\"].values\n",
        "y_train=train_df[\"label\"].values\n",
        "y_val=val_df[\"label\"].values"
      ]
    },
    {
      "cell_type": "code",
      "execution_count": 95,
      "metadata": {
        "colab": {
          "base_uri": "https://localhost:8080/"
        },
        "id": "Pmhf_URTg7Jw",
        "outputId": "af813c88-7976-4921-e6d6-d30258161eea"
      },
      "outputs": [
        {
          "name": "stdout",
          "output_type": "stream",
          "text": [
            "TF-IDF Shape: (1963, 5000)\n"
          ]
        }
      ],
      "source": [
        "from nltk.tokenize import word_tokenize\n",
        "from sklearn.feature_extraction.text import TfidfVectorizer\n",
        "\n",
        "tfidf_vectorizer = TfidfVectorizer(max_features=5000, stop_words=\"english\")\n",
        "\n",
        "X_train_tfidf = tfidf_vectorizer.fit_transform(train_df[\"text\"])\n",
        "X_val_tfidf = tfidf_vectorizer.transform(val_df[\"text\"])\n",
        "X_test_tfidf = tfidf_vectorizer.transform(test_df[\"text\"])\n",
        "\n",
        "# Print shape to confirm\n",
        "print(\"TF-IDF Shape:\", X_train_tfidf.shape)"
      ]
    },
    {
      "cell_type": "code",
      "execution_count": 112,
      "metadata": {},
      "outputs": [],
      "source": [
        "# Evaluate the model\n",
        "import numpy as np\n",
        "import seaborn as sns\n",
        "import matplotlib.pyplot as plt\n",
        "from sklearn.metrics import accuracy_score, classification_report, confusion_matrix\n",
        "\n",
        "def EvalMetricsMultiClass(y_true, y_pred, num_classes):\n",
        "    acc = accuracy_score(y_true, y_pred)\n",
        "    class_report = classification_report(y_true, y_pred, target_names=[f\"Class {i}\" for i in range(num_classes)], output_dict=True)\n",
        "    cm = confusion_matrix(y_true, y_pred)\n",
        "    # print(class_report)\n",
        "\n",
        "    print(f\"Accuracy: {acc:.4f}\")\n",
        "    print(\"\\nClassification Report:\")\n",
        "    for i in range(num_classes):\n",
        "        idx=f'Class {i}'\n",
        "        # print(class_report[idx])\n",
        "        \n",
        "        print(f\"Class {i}: Precision={class_report[f'Class {i}']['precision']:.2f}, Recall={class_report[f'Class {i}']['recall']:.2f}, F1-score={class_report[f'Class {i}']['f1-score']:.2f}\")\n",
        "\n",
        "    # Confusion Matrix Heatmap\n",
        "    plt.figure(figsize=(5,4))\n",
        "    sns.heatmap(cm, annot=True, fmt=\"d\", cmap=\"Blues\", xticklabels=[f\"Class {i}\" for i in range(num_classes)], yticklabels=[f\"Class {i}\" for i in range(num_classes)])\n",
        "    plt.xlabel(\"Predicted Label\")\n",
        "    plt.ylabel(\"True Label\")\n",
        "    plt.title(\"Confusion Matrix\")\n",
        "    plt.show()\n",
        "\n",
        "    # Per-Class Precision, Recall, F1 Score Bar Chart\n",
        "    metrics = [\"precision\", \"recall\", \"f1-score\"]\n",
        "    values = {metric: [class_report[f\"Class {i}\"][metric] for i in range(num_classes)] for metric in metrics}\n",
        "    \n",
        "    x = np.arange(num_classes)\n",
        "    width = 0.2\n",
        "\n",
        "    plt.figure(figsize=(5,4))\n",
        "    for i, metric in enumerate(metrics):\n",
        "        plt.bar(x + i * width, values[metric], width=width, label=metric)\n",
        "\n",
        "    plt.xticks(x + width, [f\"Class {i}\" for i in range(num_classes)])\n",
        "    plt.ylabel(\"Score\")\n",
        "    plt.ylim(0, 1)\n",
        "    plt.title(\"Per-Class Precision, Recall, and F1-Score\")\n",
        "    plt.legend()\n",
        "    plt.show()\n"
      ]
    },
    {
      "cell_type": "markdown",
      "metadata": {},
      "source": [
        "# Classical Machine Learning Approach"
      ]
    },
    {
      "cell_type": "markdown",
      "metadata": {},
      "source": [
        "# Model 1 : Support Vector Classifier (SVC)\n",
        "### tfidf embeddings+ svc"
      ]
    },
    {
      "cell_type": "code",
      "execution_count": 113,
      "metadata": {},
      "outputs": [
        {
          "name": "stdout",
          "output_type": "stream",
          "text": [
            "SVC train accuracy: 1.0\n",
            "SVC validation accuracy: 0.9991511035653651\n",
            "SVC test accuracy: 1.0\n",
            "Accuracy: 1.0000\n",
            "\n",
            "Classification Report:\n",
            "Class 0: Precision=1.00, Recall=1.00, F1-score=1.00\n",
            "Class 1: Precision=1.00, Recall=1.00, F1-score=1.00\n",
            "Class 2: Precision=1.00, Recall=1.00, F1-score=1.00\n",
            "Class 3: Precision=1.00, Recall=1.00, F1-score=1.00\n",
            "Class 4: Precision=1.00, Recall=1.00, F1-score=1.00\n"
          ]
        },
        {
          "data": {
            "image/png": "[encoded data removed]",
            "text/plain": [
              "<Figure size 500x400 with 2 Axes>"
            ]
          },
          "metadata": {},
          "output_type": "display_data"
        },
        {
          "data": {
            "image/png": "[encoded data removed]",
            "text/plain": [
              "<Figure size 500x400 with 1 Axes>"
            ]
          },
          "metadata": {},
          "output_type": "display_data"
        }
      ],
      "source": [
        "import numpy as np\n",
        "import pandas as pd\n",
        "# from sklearn.model_selection import train_test_split\n",
        "from sklearn.svm import SVC\n",
        "from sklearn.ensemble import RandomForestClassifier\n",
        "# from sklearn.metrics import classification_report, accuracy_score\n",
        "\n",
        "class SVCModel():\n",
        "    def __init__(self, X_train, y_train):\n",
        "        self.model = SVC(kernel='linear')\n",
        "        self.X_train = X_train\n",
        "        self.y_train = y_train\n",
        "\n",
        "    def fit(self):\n",
        "        self.model.fit(self.X_train, self.y_train)\n",
        "\n",
        "    def predict(self, X_test):\n",
        "        self.y_output = self.model.predict(X_test)\n",
        "        return self.y_output\n",
        "    \n",
        "    def test(self, y_test,type='test'):\n",
        "        print(f\"SVC {type} accuracy:\", accuracy_score(y_test, self.y_output))\n",
        "        # print(\"Classification Report:\")\n",
        "        # print(classification_report(y_test, self.y_output))\n",
        "\n",
        "\n",
        "svcModel=SVCModel(X_train_tfidf, y_train)\n",
        "svcModel.fit()  \n",
        "y_svc=svcModel.predict(X_train_tfidf)\n",
        "svcModel.test(y_train,'train')\n",
        "y_svc=svcModel.predict(X_val_tfidf)\n",
        "svcModel.test(y_val,'validation')\n",
        "y_svc=svcModel.predict(X_test_tfidf)\n",
        "svcModel.test(y_test,'test')\n",
        "\n",
        "\n",
        "EvalMetricsMultiClass(y_test, y_svc, 5)"
      ]
    },
    {
      "cell_type": "markdown",
      "metadata": {},
      "source": [
        "# Model 2: Random Forest\n",
        "### tfidf embeddings with random forest\n"
      ]
    },
    {
      "cell_type": "code",
      "execution_count": 114,
      "metadata": {},
      "outputs": [
        {
          "name": "stdout",
          "output_type": "stream",
          "text": [
            "Random Forest train accuracy: 1.0\n",
            "Random Forest validation accuracy: 0.9923599320882852\n",
            "Random Forest test accuracy: 0.9974554707379135\n",
            "Accuracy: 0.9975\n",
            "\n",
            "Classification Report:\n",
            "Class 0: Precision=1.00, Recall=1.00, F1-score=1.00\n",
            "Class 1: Precision=0.99, Recall=0.99, F1-score=0.99\n",
            "Class 2: Precision=1.00, Recall=1.00, F1-score=1.00\n",
            "Class 3: Precision=1.00, Recall=1.00, F1-score=1.00\n",
            "Class 4: Precision=1.00, Recall=1.00, F1-score=1.00\n"
          ]
        },
        {
          "data": {
            "image/png": "[encoded data removed]",
            "text/plain": [
              "<Figure size 500x400 with 2 Axes>"
            ]
          },
          "metadata": {},
          "output_type": "display_data"
        },
        {
          "data": {
            "image/png": "[encoded data removed]",
            "text/plain": [
              "<Figure size 500x400 with 1 Axes>"
            ]
          },
          "metadata": {},
          "output_type": "display_data"
        }
      ],
      "source": [
        "\n",
        "class RandomForestModel():\n",
        "    def __init__(self, X_train, y_train):\n",
        "        self.model = RandomForestClassifier(n_estimators=100, random_state=42)\n",
        "        self.X_train = X_train\n",
        "        self.y_train = y_train\n",
        "\n",
        "    def fit(self):\n",
        "        self.model.fit(self.X_train, self.y_train)\n",
        "\n",
        "    def predict(self, X_test):\n",
        "        self.y_output = self.model.predict(X_test)\n",
        "        return self.y_output\n",
        "    \n",
        "    def test(self, y_test,type='test'):\n",
        "        print(f\"Random Forest {type} accuracy:\", accuracy_score(y_test, self.y_output))\n",
        "        # print(\"Classification Report:\")\n",
        "        # print(classification_report(y_test, self.y_output))\n",
        "        \n",
        "randomForestModel=RandomForestModel(X_train_tfidf, y_train)\n",
        "randomForestModel.fit()  \n",
        "y_randomforest=randomForestModel.predict(X_train_tfidf)\n",
        "randomForestModel.test(y_train,'train')\n",
        "y_randomforest=randomForestModel.predict(X_val_tfidf)\n",
        "randomForestModel.test(y_val,'validation')\n",
        "y_randomforest=randomForestModel.predict(X_test_tfidf)\n",
        "randomForestModel.test(y_test,'test')\n",
        "\n",
        "EvalMetricsMultiClass(y_test, y_randomforest, 5)"
      ]
    },
    {
      "cell_type": "markdown",
      "metadata": {},
      "source": [
        "# Deep Learning Approach"
      ]
    },
    {
      "cell_type": "markdown",
      "metadata": {},
      "source": [
        "#### Here we use Word2Vec and FastText Embeddings"
      ]
    },
    {
      "cell_type": "code",
      "execution_count": 115,
      "metadata": {
        "id": "e4-a5CVqhAWX"
      },
      "outputs": [],
      "source": [
        "def get_average_word2vec(text, model, vector_size=100):\n",
        "    \"\"\"\n",
        "        Convert text into a single averaged word vector.\n",
        "        Used as input to classical ML models which expects fixed length input\n",
        "\n",
        "        Args:\n",
        "        - text (str): Input sentence or document.\n",
        "        - model (Word2Vec): Trained Word2Vec model.\n",
        "        - vector_size (int): Size of word vectors.\n",
        "\n",
        "        Returns:\n",
        "        - numpy array of shape (vector_size,)\n",
        "                                                                                \"\"\"\n",
        "    tokens = word_tokenize(text)  # Tokenize text\n",
        "    vectors = [model.wv[word] for word in tokens if word in model.wv]  # Get vectors if word exists\n",
        "    return np.mean(vectors, axis=0) if vectors else np.zeros(vector_size)  # Average or return zero vector\n",
        "\n",
        "\n",
        "\n",
        "def get_word_embeddings(text, model, vector_size=100):\n",
        "    \"\"\"\n",
        "    Convert text into a sequence of word embeddings.\n",
        "\n",
        "        Args:\n",
        "        - text (str): Input sentence or document.\n",
        "        - model (Word2Vec): Trained Word2Vec model.\n",
        "        - vector_size (int): Size of word vectors.\n",
        "\n",
        "        Returns:\n",
        "        - List of numpy arrays (each of shape (vector_size,))\n",
        "                                                                                                    \"\"\"\n",
        "    tokens = word_tokenize(text)\n",
        "    embeddings = [model.wv[word] if word in model.wv else np.zeros(vector_size) for word in tokens]\n",
        "    return embeddings"
      ]
    },
    {
      "cell_type": "code",
      "execution_count": 14,
      "metadata": {
        "colab": {
          "base_uri": "https://localhost:8080/"
        },
        "id": "HAdnBwDwlTqx",
        "outputId": "fe1f791c-8486-4d6b-f85b-ad685371f114"
      },
      "outputs": [
        {
          "name": "stdout",
          "output_type": "stream",
          "text": [
            "Requirement already satisfied: gensim in /home/ai21btech11012/ViT-pruning/.venv/lib/python3.11/site-packages (4.3.3)\n",
            "Requirement already satisfied: numpy<2.0,>=1.18.5 in /home/ai21btech11012/ViT-pruning/.venv/lib/python3.11/site-packages (from gensim) (1.26.4)\n",
            "Requirement already satisfied: scipy<1.14.0,>=1.7.0 in /home/ai21btech11012/ViT-pruning/.venv/lib/python3.11/site-packages (from gensim) (1.13.1)\n",
            "Requirement already satisfied: smart-open>=1.8.1 in /home/ai21btech11012/ViT-pruning/.venv/lib/python3.11/site-packages (from gensim) (7.1.0)\n",
            "Requirement already satisfied: wrapt in /home/ai21btech11012/ViT-pruning/.venv/lib/python3.11/site-packages (from smart-open>=1.8.1->gensim) (1.17.2)\n",
            "Requirement already satisfied: scikit-learn in /home/ai21btech11012/ViT-pruning/.venv/lib/python3.11/site-packages (1.6.1)\n",
            "Requirement already satisfied: numpy>=1.19.5 in /home/ai21btech11012/ViT-pruning/.venv/lib/python3.11/site-packages (from scikit-learn) (1.26.4)\n",
            "Requirement already satisfied: scipy>=1.6.0 in /home/ai21btech11012/ViT-pruning/.venv/lib/python3.11/site-packages (from scikit-learn) (1.13.1)\n",
            "Requirement already satisfied: joblib>=1.2.0 in /home/ai21btech11012/ViT-pruning/.venv/lib/python3.11/site-packages (from scikit-learn) (1.4.2)\n",
            "Requirement already satisfied: threadpoolctl>=3.1.0 in /home/ai21btech11012/ViT-pruning/.venv/lib/python3.11/site-packages (from scikit-learn) (3.5.0)\n"
          ]
        }
      ],
      "source": [
        "!pip install gensim\n",
        "!pip install scikit-learn"
      ]
    },
    {
      "cell_type": "code",
      "execution_count": 13,
      "metadata": {
        "colab": {
          "base_uri": "https://localhost:8080/"
        },
        "id": "cN4NNDUZmEbe",
        "outputId": "dce32ba2-ef74-4149-d699-40ce92161505"
      },
      "outputs": [
        {
          "name": "stderr",
          "output_type": "stream",
          "text": [
            "[nltk_data] Downloading package punkt_tab to\n",
            "[nltk_data]     /home/ai21btech11012/nltk_data...\n",
            "[nltk_data]   Package punkt_tab is already up-to-date!\n"
          ]
        },
        {
          "data": {
            "text/plain": [
              "True"
            ]
          },
          "execution_count": 13,
          "metadata": {},
          "output_type": "execute_result"
        }
      ],
      "source": [
        "nltk.download('punkt_tab')"
      ]
    },
    {
      "cell_type": "code",
      "execution_count": 16,
      "metadata": {},
      "outputs": [],
      "source": [
        "# !pip uninstall numpy gensim\n",
        "# !pip install numpy gensim\n"
      ]
    },
    {
      "cell_type": "code",
      "execution_count": null,
      "metadata": {
        "id": "grhHqbtlhH2w"
      },
      "outputs": [],
      "source": [
        "from gensim.models import Word2Vec\n",
        "\n",
        "# Tokenize text into words\n",
        "train_tokens = train_df[\"text\"].apply(word_tokenize).tolist()\n",
        "\n",
        "# Train Word2Vec model\n",
        "word2vec_model = Word2Vec(sentences=train_tokens, vector_size=100, window=5, min_count=2, workers=4)"
      ]
    },
    {
      "cell_type": "code",
      "execution_count": 117,
      "metadata": {
        "id": "QteBW7OChJ_1"
      },
      "outputs": [],
      "source": [
        "from gensim.models import FastText\n",
        "\n",
        "# Train FastText model\n",
        "fasttext_model = FastText(sentences=train_tokens, vector_size=100, window=5, min_count=2, workers=4)"
      ]
    },
    {
      "cell_type": "markdown",
      "metadata": {},
      "source": [
        "# Model 3: Feed Forward Neural Network\n",
        "### averaged sentence word2vec embeddings"
      ]
    },
    {
      "cell_type": "code",
      "execution_count": 118,
      "metadata": {
        "id": "ZyDqobwUkjrq"
      },
      "outputs": [],
      "source": [
        "import torch\n",
        "import torch.nn as nn\n",
        "import torch.optim as optim\n",
        "from torch.utils.data import DataLoader, TensorDataset\n",
        "\n",
        "class ANNModel(nn.Module):\n",
        "    def __init__(self, input_size, hidden_size, output_size):\n",
        "        super(ANNModel, self).__init__()\n",
        "        self.fc1 = nn.Linear(input_size, hidden_size)\n",
        "        self.relu = nn.ReLU()\n",
        "        self.fc2 = nn.Linear(hidden_size, output_size)\n",
        "        self.sigmoid = nn.Sigmoid()\n",
        "\n",
        "    def forward(self, x):\n",
        "        x = self.fc1(x)\n",
        "        x = self.relu(x)\n",
        "        x = self.fc2(x)\n",
        "        x = self.sigmoid(x)\n",
        "        return x"
      ]
    },
    {
      "cell_type": "code",
      "execution_count": 119,
      "metadata": {
        "colab": {
          "base_uri": "https://localhost:8080/"
        },
        "id": "LOT91wBLo5LH",
        "outputId": "b50d085d-43ae-45a1-dd04-3d1fa5d309ed"
      },
      "outputs": [
        {
          "name": "stdout",
          "output_type": "stream",
          "text": [
            "Word2Vec representation shape: (1963, 100)\n"
          ]
        }
      ],
      "source": [
        "def get_average_word2vec(text, model, vec_size=100):\n",
        "    words = text.split()\n",
        "    vectorized_words = [model.wv[word] for word in words if word in model.wv]\n",
        "    if not vectorized_words:\n",
        "        return np.zeros(vec_size)\n",
        "    avg_vector = np.mean(vectorized_words, axis=0)\n",
        "    return avg_vector\n",
        "\n",
        "X_train2_w2v = np.array([get_average_word2vec(text, word2vec_model, 100) for text in train_texts])\n",
        "X_val2_w2v = np.array([get_average_word2vec(text, word2vec_model, 100) for text in val_texts])\n",
        "X_test2_w2v = np.array([get_average_word2vec(text, word2vec_model, 100) for text in test_texts])\n",
        "\n",
        "print(\"Word2Vec representation shape:\", X_train2_w2v.shape)"
      ]
    },
    {
      "cell_type": "code",
      "execution_count": 120,
      "metadata": {
        "id": "2Z1QlxCKoAGh"
      },
      "outputs": [],
      "source": [
        "\n",
        "device = torch.device(\"cuda\" if torch.cuda.is_available() else \"cpu\")\n",
        "\n",
        "X_train_tensor = torch.tensor(X_train2_w2v, dtype=torch.float32).to(device)\n",
        "y_train_tensor = torch.tensor(train_labels.values, dtype=torch.float32).to(device)\n",
        "X_val_tensor = torch.tensor(X_val2_w2v, dtype=torch.float32).to(device)\n",
        "y_val_tensor = torch.tensor(val_labels.values, dtype=torch.float32).to(device)\n",
        "X_test_tensor = torch.tensor(X_test2_w2v, dtype=torch.float32).to(device)\n",
        "y_test_tensor = torch.tensor(test_labels.values, dtype=torch.float32).to(device)\n",
        "\n",
        "train_dataset = TensorDataset(X_train_tensor, y_train_tensor)\n",
        "train_dataloader = DataLoader(train_dataset, batch_size=32, shuffle=True)\n",
        "val_dataset = TensorDataset(X_val_tensor, y_val_tensor)\n",
        "val_dataloader = DataLoader(val_dataset, batch_size=32, shuffle=False)\n",
        "test_dataset = TensorDataset(X_test_tensor, y_test_tensor)\n",
        "test_dataloader = DataLoader(test_dataset, batch_size=32, shuffle=False)\n"
      ]
    },
    {
      "cell_type": "code",
      "execution_count": 124,
      "metadata": {},
      "outputs": [
        {
          "name": "stdout",
          "output_type": "stream",
          "text": [
            "Epoch [1/10], Train Acc: 0.7636, Val Acc: 0.9015\n",
            "Epoch [2/10], Train Acc: 0.9694, Val Acc: 0.9941\n",
            "Epoch [3/10], Train Acc: 0.9913, Val Acc: 0.9941\n",
            "Epoch [4/10], Train Acc: 0.9924, Val Acc: 0.9949\n",
            "Epoch [5/10], Train Acc: 0.9924, Val Acc: 0.9949\n",
            "Epoch [6/10], Train Acc: 0.9944, Val Acc: 0.9958\n",
            "Epoch [7/10], Train Acc: 0.9939, Val Acc: 0.9949\n",
            "Epoch [8/10], Train Acc: 0.9954, Val Acc: 0.9958\n",
            "Epoch [9/10], Train Acc: 0.9959, Val Acc: 0.9958\n",
            "Epoch [10/10], Train Acc: 0.9959, Val Acc: 0.9958\n",
            "Final Test Accuracy: 0.9962\n"
          ]
        }
      ],
      "source": [
        "model = ANNModel(100, 128, 5)\n",
        "model = model.to('cuda:0')\n",
        "criterion = nn.CrossEntropyLoss()\n",
        "optimizer = optim.Adam(model.parameters(), lr=0.001)\n",
        "num_epochs = 10\n",
        "\n",
        "for epoch in range(num_epochs):\n",
        "    model.train()\n",
        "    total_loss = 0\n",
        "    correct_train = 0\n",
        "    total_train = 0\n",
        "    for X_batch, y_batch in train_dataloader:\n",
        "        optimizer.zero_grad()\n",
        "        X_batch, y_batch = X_batch.to('cuda:0'), y_batch.to('cuda:0')\n",
        "        output = model(X_batch)\n",
        "        y_batch = y_batch.long()\n",
        "        loss = criterion(output, y_batch)\n",
        "        loss.backward()\n",
        "        optimizer.step()\n",
        "        total_loss += loss.item()\n",
        "        _, predicted = torch.max(output, 1)\n",
        "        correct_train += (predicted == y_batch).sum().item()\n",
        "        total_train += y_batch.size(0)\n",
        "    \n",
        "    train_accuracy = correct_train / total_train\n",
        "\n",
        "    model.eval()\n",
        "    total_val_loss = 0\n",
        "    correct_val = 0\n",
        "    total_val = 0\n",
        "    with torch.no_grad():\n",
        "        for X_val_batch, y_val_batch in val_dataloader:\n",
        "            X_val_batch, y_val_batch = X_val_batch.to('cuda:0'), y_val_batch.to('cuda:0')\n",
        "            output_val = model(X_val_batch)\n",
        "            y_val_batch = y_val_batch.long()\n",
        "            loss_val = criterion(output_val, y_val_batch)\n",
        "            total_val_loss += loss_val.item()\n",
        "            _, output = torch.max(output_val, 1)\n",
        "            correct_val += (output == y_val_batch).sum().item()\n",
        "            total_val += y_val_batch.size(0)\n",
        "    \n",
        "    val_accuracy = correct_val / total_val\n",
        "\n",
        "    print(f\"Epoch [{epoch+1}/{num_epochs}], Train Acc: {train_accuracy:.4f}, Val Acc: {val_accuracy:.4f}\")\n",
        "\n",
        "model.eval()\n",
        "correct_test = 0\n",
        "total_test = 0\n",
        "with torch.no_grad():\n",
        "    for X_test_batch, y_test_batch in test_dataloader:\n",
        "        X_test_batch, y_test_batch = X_test_batch.to('cuda:0'), y_test_batch.to('cuda:0')\n",
        "        y_test_batch = y_test_batch.long()\n",
        "        output_test = model(X_test_batch)\n",
        "        _, predicted_test = torch.max(output_test, 1)\n",
        "        correct_test += (predicted_test == y_test_batch).sum().item()\n",
        "        total_test += y_test_batch.size(0)\n",
        "\n",
        "test_accuracy = correct_test / total_test\n",
        "print(f\"Final Test Accuracy: {test_accuracy:.4f}\")\n"
      ]
    },
    {
      "cell_type": "code",
      "execution_count": 125,
      "metadata": {},
      "outputs": [
        {
          "name": "stdout",
          "output_type": "stream",
          "text": [
            "Accuracy: 0.9962\n",
            "\n",
            "Classification Report:\n",
            "Class 0: Precision=0.99, Recall=1.00, F1-score=1.00\n",
            "Class 1: Precision=1.00, Recall=0.99, F1-score=0.99\n",
            "Class 2: Precision=1.00, Recall=1.00, F1-score=1.00\n",
            "Class 3: Precision=0.99, Recall=1.00, F1-score=0.99\n",
            "Class 4: Precision=1.00, Recall=1.00, F1-score=1.00\n"
          ]
        },
        {
          "data": {
            "image/png": "[encoded data removed]",
            "text/plain": [
              "<Figure size 500x400 with 2 Axes>"
            ]
          },
          "metadata": {},
          "output_type": "display_data"
        },
        {
          "data": {
            "image/png": "[encoded data removed]",
            "text/plain": [
              "<Figure size 500x400 with 1 Axes>"
            ]
          },
          "metadata": {},
          "output_type": "display_data"
        }
      ],
      "source": [
        "# evaluating model\n",
        "y_true = []\n",
        "y_pred = []\n",
        "\n",
        "with torch.no_grad():\n",
        "    for X_test_batch, y_test_batch in test_dataloader:\n",
        "        X_test_batch, y_test_batch = X_test_batch.to('cuda:0'), y_test_batch.to('cuda:0')\n",
        "        y_test_batch = y_test_batch.long()\n",
        "        \n",
        "        output_test = model(X_test_batch)\n",
        "        _, predicted_test = torch.max(output_test, 1)\n",
        "        \n",
        "        y_true.extend(y_test_batch.cpu().numpy())\n",
        "        y_pred.extend(predicted_test.cpu().numpy())\n",
        "\n",
        "y_true = np.array(y_true)\n",
        "y_pred = np.array(y_pred)\n",
        "\n",
        "EvalMetricsMultiClass(y_true, y_pred, num_classes=5)"
      ]
    },
    {
      "cell_type": "markdown",
      "metadata": {},
      "source": [
        "# Model 4: LSTM\n",
        "### FastText embeddings"
      ]
    },
    {
      "cell_type": "code",
      "execution_count": null,
      "metadata": {},
      "outputs": [],
      "source": [
        "from torch.utils.data import Dataset\n",
        "\n",
        "class EmbeddingDataset2(Dataset):\n",
        "    def __init__(self, textdata,labels,model,vec_size=100,max_len=100):\n",
        "        self.xTrain = textdata\n",
        "        self.vec_size=vec_size\n",
        "        self.yTrain=labels\n",
        "        self.model = model\n",
        "        self.max_len=max_len\n",
        "\n",
        "    def __getitem__(self, idx):\n",
        "        text = self.xTrain.iloc[idx]\n",
        "        # print()\n",
        "        words = text.split()\n",
        "        vectorized_words = [self.model.wv[word] for word in words if word in self.model.wv]\n",
        "        if not vectorized_words:\n",
        "          return np.zeros(self.vec_size)\n",
        "        currlabel = torch.tensor(self.yTrain[idx], dtype=torch.float32)\n",
        "\n",
        "        return torch.tensor(vectorized_words, dtype=torch.float32), currlabel\n",
        "\n",
        "    def __len__(self):\n",
        "        return len(self.xTrain)\n",
        "    \n",
        "    \n",
        "\n",
        "train_dataset = EmbeddingDataset2(train_texts, y_train_tensor,fasttext_model)\n",
        "train_dataloader = DataLoader(train_dataset, batch_size=1, shuffle=True)\n",
        "val_dataset = EmbeddingDataset2(val_texts, y_val_tensor,fasttext_model)\n",
        "val_dataloader = DataLoader(val_dataset, batch_size=1, shuffle=False)\n",
        "test_dataset = EmbeddingDataset2(test_texts, y_test_tensor,fasttext_model)\n",
        "test_dataloader = DataLoader(test_dataset, batch_size=1, shuffle=False)\n"
      ]
    },
    {
      "cell_type": "code",
      "execution_count": 127,
      "metadata": {},
      "outputs": [],
      "source": [
        "class LSTMModel(nn.Module):\n",
        "    def __init__(self, input_dim=100, hidden_dim=256, output_dim=5, num_layers=3, dropout=0.3):\n",
        "        super(LSTMModel, self).__init__()\n",
        "        self.lstm = nn.LSTM(input_dim, hidden_dim, num_layers, batch_first=True, bidirectional=True)\n",
        "        self.layer_norm = nn.LayerNorm(hidden_dim * 2)\n",
        "        self.fc = nn.Linear(hidden_dim * 2, output_dim)\n",
        "        self.dropout = nn.Dropout(dropout)\n",
        "\n",
        "    def forward(self, x):\n",
        "        x, _ = self.lstm(x)\n",
        "        x = x[:, -1, :]\n",
        "        x = self.layer_norm(x)\n",
        "        x = self.dropout(x)\n",
        "        out = self.fc(x)\n",
        "        return out"
      ]
    },
    {
      "cell_type": "code",
      "execution_count": 128,
      "metadata": {},
      "outputs": [
        {
          "name": "stderr",
          "output_type": "stream",
          "text": [
            "/tmp/ipykernel_572221/977243427.py:60: UserWarning: To copy construct from a tensor, it is recommended to use sourceTensor.clone().detach() or sourceTensor.clone().detach().requires_grad_(True), rather than torch.tensor(sourceTensor).\n",
            "  currlabel = torch.tensor(self.yTrain[idx], dtype=torch.float32)\n"
          ]
        },
        {
          "name": "stdout",
          "output_type": "stream",
          "text": [
            "Epoch [1/10], Train Acc: 0.8833, Val Acc: 0.9847\n",
            "Epoch [2/10], Train Acc: 0.9725, Val Acc: 0.9762\n",
            "Epoch [3/10], Train Acc: 0.9888, Val Acc: 0.9932\n",
            "Epoch [4/10], Train Acc: 0.9786, Val Acc: 0.9754\n",
            "Epoch [5/10], Train Acc: 0.9842, Val Acc: 0.9796\n",
            "Epoch [6/10], Train Acc: 0.9766, Val Acc: 0.9856\n",
            "Epoch [7/10], Train Acc: 0.9878, Val Acc: 0.9890\n",
            "Epoch [8/10], Train Acc: 0.9949, Val Acc: 0.9932\n",
            "Epoch [9/10], Train Acc: 0.9918, Val Acc: 0.9924\n",
            "Epoch [10/10], Train Acc: 0.9939, Val Acc: 0.9822\n",
            "Final Test Accuracy: 0.9822\n"
          ]
        }
      ],
      "source": [
        "\n",
        "model = LSTMModel(100,128,5,2)\n",
        "model = model.to('cuda:0')\n",
        "criterion = nn.CrossEntropyLoss()\n",
        "optimizer = optim.Adam(model.parameters(), lr=0.001)\n",
        "num_epochs = 10\n",
        "\n",
        "for epoch in range(num_epochs):\n",
        "    model.train()\n",
        "    total_loss = 0\n",
        "    correct_train = 0\n",
        "    total_train = 0\n",
        "    for X_batch, y_batch in train_dataloader:\n",
        "        optimizer.zero_grad()\n",
        "        X_batch, y_batch = X_batch.to('cuda:0'), y_batch.to('cuda:0')\n",
        "        output = model(X_batch)\n",
        "        y_batch = y_batch.long()\n",
        "        loss = criterion(output, y_batch)\n",
        "        loss.backward()\n",
        "        optimizer.step()\n",
        "        total_loss += loss.item()\n",
        "        _, predicted = torch.max(output, 1)\n",
        "        correct_train += (predicted == y_batch).sum().item()\n",
        "        total_train += y_batch.size(0)\n",
        "    \n",
        "    train_accuracy = correct_train / total_train\n",
        "\n",
        "    model.eval()\n",
        "    total_val_loss = 0\n",
        "    correct_val = 0\n",
        "    total_val = 0\n",
        "    with torch.no_grad():\n",
        "        for X_val_batch, y_val_batch in val_dataloader:\n",
        "            X_val_batch, y_val_batch = X_val_batch.to('cuda:0'), y_val_batch.to('cuda:0')\n",
        "            output_val = model(X_val_batch)\n",
        "            y_val_batch = y_val_batch.long()\n",
        "            loss_val = criterion(output_val, y_val_batch)\n",
        "            total_val_loss += loss_val.item()\n",
        "            _, output = torch.max(output_val, 1)\n",
        "            correct_val += (output == y_val_batch).sum().item()\n",
        "            total_val += y_val_batch.size(0)\n",
        "    \n",
        "    val_accuracy = correct_val / total_val\n",
        "\n",
        "    print(f\"Epoch [{epoch+1}/{num_epochs}], Train Acc: {train_accuracy:.4f}, Val Acc: {val_accuracy:.4f}\")\n",
        "\n",
        "model.eval()\n",
        "correct_test = 0\n",
        "total_test = 0\n",
        "with torch.no_grad():\n",
        "    for X_test_batch, y_test_batch in test_dataloader:\n",
        "        X_test_batch, y_test_batch = X_test_batch.to('cuda:0'), y_test_batch.to('cuda:0')\n",
        "        y_test_batch = y_test_batch.long()\n",
        "        output_test = model(X_test_batch)\n",
        "        _, predicted_test = torch.max(output_test, 1)\n",
        "        correct_test += (predicted_test == y_test_batch).sum().item()\n",
        "        total_test += y_test_batch.size(0)\n",
        "\n",
        "test_accuracy = correct_test / total_test\n",
        "print(f\"Final Test Accuracy: {test_accuracy:.4f}\")\n"
      ]
    },
    {
      "cell_type": "code",
      "execution_count": 129,
      "metadata": {},
      "outputs": [
        {
          "name": "stderr",
          "output_type": "stream",
          "text": [
            "/tmp/ipykernel_572221/977243427.py:60: UserWarning: To copy construct from a tensor, it is recommended to use sourceTensor.clone().detach() or sourceTensor.clone().detach().requires_grad_(True), rather than torch.tensor(sourceTensor).\n",
            "  currlabel = torch.tensor(self.yTrain[idx], dtype=torch.float32)\n"
          ]
        },
        {
          "name": "stdout",
          "output_type": "stream",
          "text": [
            "Accuracy: 0.9822\n",
            "\n",
            "Classification Report:\n",
            "Class 0: Precision=0.97, Recall=0.99, F1-score=0.98\n",
            "Class 1: Precision=0.99, Recall=0.97, F1-score=0.98\n",
            "Class 2: Precision=0.95, Recall=0.91, F1-score=0.93\n",
            "Class 3: Precision=0.98, Recall=1.00, F1-score=0.99\n",
            "Class 4: Precision=1.00, Recall=1.00, F1-score=1.00\n"
          ]
        },
        {
          "data": {
            "image/png": "[encoded data removed]",
            "text/plain": [
              "<Figure size 500x400 with 2 Axes>"
            ]
          },
          "metadata": {},
          "output_type": "display_data"
        },
        {
          "data": {
            "image/png": "[encoded data removed]",
            "text/plain": [
              "<Figure size 500x400 with 1 Axes>"
            ]
          },
          "metadata": {},
          "output_type": "display_data"
        }
      ],
      "source": [
        "y_true = []\n",
        "y_pred = []\n",
        "\n",
        "with torch.no_grad():\n",
        "    for X_test_batch, y_test_batch in test_dataloader:\n",
        "        X_test_batch, y_test_batch = X_test_batch.to('cuda:0'), y_test_batch.to('cuda:0')\n",
        "        y_test_batch = y_test_batch.long()\n",
        "        \n",
        "        output_test = model(X_test_batch)\n",
        "        _, predicted_test = torch.max(output_test, 1)\n",
        "        \n",
        "        y_true.extend(y_test_batch.cpu().numpy())\n",
        "        y_pred.extend(predicted_test.cpu().numpy())\n",
        "\n",
        "y_true = np.array(y_true)\n",
        "y_pred = np.array(y_pred)\n",
        "\n",
        "EvalMetricsMultiClass(y_true, y_pred, num_classes=5)"
      ]
    },
    {
      "cell_type": "markdown",
      "metadata": {},
      "source": [
        "# Conclusions"
      ]
    }
  ],
  "metadata": {
    "accelerator": "GPU",
    "colab": {
      "gpuType": "T4",
      "provenance": []
    },
    "kernelspec": {
      "display_name": ".venv",
      "language": "python",
      "name": "python3"
    },
    "language_info": {
      "codemirror_mode": {
        "name": "ipython",
        "version": 3
      },
      "file_extension": ".py",
      "mimetype": "text/x-python",
      "name": "python",
      "nbconvert_exporter": "python",
      "pygments_lexer": "ipython3",
      "version": "3.8.10"
    }
  },
  "nbformat": 4,
  "nbformat_minor": 0
}
